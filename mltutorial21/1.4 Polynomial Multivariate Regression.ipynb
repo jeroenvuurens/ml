{
 "cells": [
  {
   "cell_type": "markdown",
   "metadata": {},
   "source": [
    "# Polynomial & Multivariate Regression\n",
    "\n",
    "We have seen that for a single input feature, we can fit a polynomial function of the form:\n",
    "\n",
    "$$y = a \\cdot x + b \\cdot x^2 + c \\cdot x^3 + .... + z$$\n",
    "\n",
    "In the case of multivariate models, we can also add mixtures, e.g. for a second-degree polynomial over two features:\n",
    "\n",
    "$$ y = a \\cdot x_1 + b \\cdot x_2 + c \\cdot x_1^2 + d \\cdot x_1 \\cdot x_2 + e \\cdot x_2^2 + f $$\n",
    "\n",
    "The two can simply be combined."
   ]
  },
  {
   "cell_type": "code",
   "execution_count": null,
   "metadata": {},
   "outputs": [],
   "source": [
    "from ml import *"
   ]
  },
  {
   "cell_type": "code",
   "execution_count": null,
   "metadata": {},
   "outputs": [],
   "source": [
    "data = wines('quality', 'alcohol', 'pH', degree=2)"
   ]
  },
  {
   "cell_type": "markdown",
   "metadata": {},
   "source": [
    "So we now see that the columns contain from left to right: $alcohol$, $ph$, $alcohol^2$, $alcohol \\cdot ph$, $ph^2$."
   ]
  },
  {
   "cell_type": "code",
   "execution_count": null,
   "metadata": {},
   "outputs": [],
   "source": [
    "data.train_X"
   ]
  },
  {
   "cell_type": "markdown",
   "metadata": {},
   "source": [
    "And we see that the results improved somewhat on the training set, when we consider the loss. "
   ]
  },
  {
   "cell_type": "code",
   "execution_count": null,
   "metadata": {},
   "outputs": [],
   "source": [
    "model = linear_regression_ne(data)\n",
    "model.train()\n",
    "model.data.plot()\n",
    "model.plot_train_line(marker='.')"
   ]
  },
  {
   "cell_type": "markdown",
   "metadata": {},
   "source": [
    "#### Try different values for degree, between 2-10. What value gives the best reults?"
   ]
  },
  {
   "cell_type": "code",
   "execution_count": null,
   "metadata": {},
   "outputs": [],
   "source": []
  }
 ],
 "metadata": {
  "kernelspec": {
   "display_name": "Python 3",
   "language": "python",
   "name": "python3"
  },
  "language_info": {
   "codemirror_mode": {
    "name": "ipython",
    "version": 3
   },
   "file_extension": ".py",
   "mimetype": "text/x-python",
   "name": "python",
   "nbconvert_exporter": "python",
   "pygments_lexer": "ipython3",
   "version": "3.6.8"
  },
  "toc": {
   "base_numbering": 1,
   "nav_menu": {},
   "number_sections": true,
   "sideBar": true,
   "skip_h1_title": true,
   "title_cell": "Table of Contents",
   "title_sidebar": "Contents",
   "toc_cell": false,
   "toc_position": {},
   "toc_section_display": true,
   "toc_window_display": false
  }
 },
 "nbformat": 4,
 "nbformat_minor": 2
}
