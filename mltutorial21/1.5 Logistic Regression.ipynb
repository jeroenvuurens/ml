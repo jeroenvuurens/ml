{
 "cells": [
  {
   "cell_type": "markdown",
   "metadata": {},
   "source": [
    "# Logistic Regression"
   ]
  },
  {
   "cell_type": "markdown",
   "metadata": {},
   "source": [
    "# Classification\n",
    "\n",
    "We have already seen that it isn't easy to give very accurate predictions on the precise quality. Another way to approach the task to predict wine quality is as if it is a classification task. In it's most basic form, we can distinguish between wines on or above some threshold vs wines below that threshold. \n",
    "\n",
    "When the task is to estimate of which class $y$ a data point $x$ belongs, we are considering it as a classification task. The difference with regression is that we are not predicting a value on a continuous scale (e.g. temperature), but rather predict to which class something or someone belongs (e.g. male/female). We start by looking at binary classification, e.g. ill/not-ill, spam/not-spam. To simplify our first classification attempts, we will assume that every observation belong to exactly one class.\n",
    "\n",
    "In order to use regression analysis for classification, we usually code these binary classes as 0 and 1:\n",
    "\n",
    "$$y \\in \\{0,1\\}$$"
   ]
  },
  {
   "cell_type": "markdown",
   "metadata": {},
   "source": [
    "# Data \n",
    "\n",
    "For this, we can load the dataset with the `wines_classify` function in which we set the minimum quality for a wine to pass. A 2d scatter plot uses the colors green for the wines with a quality >= threshold and the color red for the wines that do not. We can roughly see that wines are better appreciated when containing more alcohol and being slightly more acidic."
   ]
  },
  {
   "cell_type": "markdown",
   "metadata": {},
   "source": [
    "#### Enter the code to import the ml libary"
   ]
  },
  {
   "cell_type": "code",
   "execution_count": 1,
   "metadata": {},
   "outputs": [],
   "source": [
    "from ml import *"
   ]
  },
  {
   "cell_type": "code",
   "execution_count": 3,
   "metadata": {},
   "outputs": [],
   "source": [
    "data = wines_binary('quality', 'alcohol', 'pH', threshold=6)"
   ]
  },
  {
   "cell_type": "code",
   "execution_count": 4,
   "metadata": {},
   "outputs": [
    {
     "data": {
      "image/png": "[encoded data removed]",
      "text/plain": [
       "<Figure size 432x288 with 1 Axes>"
      ]
     },
     "metadata": {
      "needs_background": "light"
     },
     "output_type": "display_data"
    }
   ],
   "source": [
    "data.plot2d()"
   ]
  },
  {
   "cell_type": "markdown",
   "metadata": {},
   "source": [
    "# Model\n",
    "\n",
    "We use one of the most commonly used `classifiers`, which is multivariate regression with a logistic function, also called `logistic regression`. We will explain how logistic regression works in more detail over the weeks."
   ]
  },
  {
   "cell_type": "code",
   "execution_count": 5,
   "metadata": {},
   "outputs": [],
   "source": [
    "model = logistic_regression(data)"
   ]
  },
  {
   "cell_type": "markdown",
   "metadata": {},
   "source": [
    "# Train"
   ]
  },
  {
   "cell_type": "markdown",
   "metadata": {},
   "source": [
    "#### Add the code to train the model"
   ]
  },
  {
   "cell_type": "code",
   "execution_count": null,
   "metadata": {},
   "outputs": [],
   "source": []
  },
  {
   "cell_type": "markdown",
   "metadata": {},
   "source": [
    "# Validation\n",
    "\n",
    "To validate the model, we will draw a `decision boundary` over the training data so that we can inspect if the model makes sense. Note that in this case the decision boundary is linear because we use a form of linear regression without higher order polynomials. And a good position for the decision boundary is the point where we maximize the number good wines that are classified on one side and the number of bad wines on the other side. \n",
    "\n",
    "One other thing to mention, for classification tasks we can compute the `accuracy` as the number of correctly classified wines. The accuracy is shown as `acc` in the training log. For a threshold of 6, we see that 71% of the training examples s correctly classified."
   ]
  },
  {
   "cell_type": "code",
   "execution_count": null,
   "metadata": {},
   "outputs": [],
   "source": [
    "model.data.plot2d()\n",
    "model.plot_boundary()"
   ]
  },
  {
   "cell_type": "code",
   "execution_count": null,
   "metadata": {},
   "outputs": [],
   "source": []
  }
 ],
 "metadata": {
  "kernelspec": {
   "display_name": "Python 3",
   "language": "python",
   "name": "python3"
  },
  "language_info": {
   "codemirror_mode": {
    "name": "ipython",
    "version": 3
   },
   "file_extension": ".py",
   "mimetype": "text/x-python",
   "name": "python",
   "nbconvert_exporter": "python",
   "pygments_lexer": "ipython3",
   "version": "3.6.8"
  },
  "toc": {
   "base_numbering": 1,
   "nav_menu": {},
   "number_sections": true,
   "sideBar": true,
   "skip_h1_title": true,
   "title_cell": "Table of Contents",
   "title_sidebar": "Contents",
   "toc_cell": false,
   "toc_position": {},
   "toc_section_display": true,
   "toc_window_display": false
  }
 },
 "nbformat": 4,
 "nbformat_minor": 2
}
