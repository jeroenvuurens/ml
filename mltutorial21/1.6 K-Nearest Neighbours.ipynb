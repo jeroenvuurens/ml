{
 "cells": [
  {
   "cell_type": "markdown",
   "metadata": {},
   "source": [
    "# K-Nearest Neighbors"
   ]
  },
  {
   "cell_type": "markdown",
   "metadata": {
    "cell_style": "center"
   },
   "source": [
    "K-nearest neighbors makes predictions by looking at the known class of the K-nearest neighbors in the training set. You have to set K to a value, this defines the number of nearest neighbors that is checked. Then for any point for which the class is estimated, the majority class of its k-nearest neighbors is used."
   ]
  },
  {
   "cell_type": "markdown",
   "metadata": {},
   "source": [
    "# Data \n",
    "\n",
    "For this, we can load the dataset with the `wines_classify` function in which we set the minimum quality for a wine to pass. A 2d scatter plot uses the colors green for the wines with a quality >= threshold and the color red for the wines that do not. We can roughly see that wines are better appreciated when containing more alcohol and being slightly more acidic."
   ]
  },
  {
   "cell_type": "code",
   "execution_count": null,
   "metadata": {},
   "outputs": [],
   "source": [
    "from ml import *"
   ]
  },
  {
   "cell_type": "code",
   "execution_count": null,
   "metadata": {},
   "outputs": [],
   "source": [
    "data = wines_binary('quality', 'alcohol', 'pH', threshold=6)"
   ]
  },
  {
   "cell_type": "markdown",
   "metadata": {},
   "source": [
    "#### Enter the code to visualize the classification data like in the Logistic Regression example"
   ]
  },
  {
   "cell_type": "code",
   "execution_count": null,
   "metadata": {},
   "outputs": [],
   "source": []
  },
  {
   "cell_type": "markdown",
   "metadata": {},
   "source": [
    "# Model\n",
    "\n",
    "We use the knn class and start with k=1.\n",
    "\n",
    "# Validation\n",
    "\n",
    "To validate the model, we will draw a `decision boundary` over the training data so that we can inspect if the model makes sense. In this case the decision boundary is non necessarily continuous, since we can have local regions (islands) in which the majority label is different from the surrounding regions.\n",
    "\n",
    "The accuracy is shown as `acc` in the training log. For a threshold of 6, and a we see that 88% of the wines can be correctly classified based on their alcohol percentage and pH-value. However, the databunch also contains a `validation` set with data that is not used in training, and the result on that set is only 57%. "
   ]
  },
  {
   "cell_type": "code",
   "execution_count": null,
   "metadata": {},
   "outputs": [],
   "source": [
    "model = knn(data, k=1)\n",
    "model.train()"
   ]
  },
  {
   "cell_type": "markdown",
   "metadata": {},
   "source": [
    "#### Enter the code to plot the decision boundary"
   ]
  },
  {
   "cell_type": "code",
   "execution_count": null,
   "metadata": {},
   "outputs": [],
   "source": []
  },
  {
   "cell_type": "markdown",
   "metadata": {},
   "source": [
    "#### Retry the same experiment and set `k` to higher values. Also try large values like 25 or 75. What changes and why?"
   ]
  },
  {
   "cell_type": "code",
   "execution_count": null,
   "metadata": {},
   "outputs": [],
   "source": []
  }
 ],
 "metadata": {
  "kernelspec": {
   "display_name": "Python 3",
   "language": "python",
   "name": "python3"
  },
  "language_info": {
   "codemirror_mode": {
    "name": "ipython",
    "version": 3
   },
   "file_extension": ".py",
   "mimetype": "text/x-python",
   "name": "python",
   "nbconvert_exporter": "python",
   "pygments_lexer": "ipython3",
   "version": "3.6.8"
  },
  "toc": {
   "base_numbering": 1,
   "nav_menu": {},
   "number_sections": true,
   "sideBar": true,
   "skip_h1_title": true,
   "title_cell": "Table of Contents",
   "title_sidebar": "Contents",
   "toc_cell": false,
   "toc_position": {},
   "toc_section_display": true,
   "toc_window_display": false
  }
 },
 "nbformat": 4,
 "nbformat_minor": 2
}
