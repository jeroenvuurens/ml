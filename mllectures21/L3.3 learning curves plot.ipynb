{
 "cells": [
  {
   "cell_type": "markdown",
   "metadata": {},
   "source": [
    "# Learning Curves"
   ]
  },
  {
   "cell_type": "markdown",
   "metadata": {},
   "source": [
    "To diagnose whether a model converges nicely without underfitting or overfitting we plot learning curves. On the y-axis we usually plot the loss and on the y-axis some hyperparameter.\n",
    "\n",
    "# Hyperparameters\n",
    "\n",
    "Hyperparameters are parameters that we set prior to learning, as opposed to other parameters that are learned during learning such as the coefficients for Linear Regression. Examples of hyper parameters are (when applicable):\n",
    "- learning rate\n",
    "- the number of epochs (passes over the data set) used for training\n",
    "- the order of polynomials\n",
    "- the maximum depth of a decision tree\n",
    "- k for k-Nearest Neighbors\n",
    "- the number of features when using a fixed strategy to add features\n",
    "- regularization parameters (regularizations are ways to prevent overfitting)"
   ]
  },
  {
   "cell_type": "code",
   "execution_count": 1,
   "metadata": {},
   "outputs": [],
   "source": [
    "from ml import *\n",
    "data = dam()"
   ]
  },
  {
   "cell_type": "code",
   "execution_count": 2,
   "metadata": {},
   "outputs": [
    {
     "data": {
      "image/png": "[encoded data removed]",
      "text/plain": [
       "<Figure size 432x288 with 1 Axes>"
      ]
     },
     "metadata": {
      "needs_background": "light"
     },
     "output_type": "display_data"
    }
   ],
   "source": [
    "data.plot(marker = 'x')"
   ]
  },
  {
   "cell_type": "markdown",
   "metadata": {},
   "source": [
    "Inspecting the data reveals that a higher-order polynomial is required for this dataset. But it is difficult to determine the degree of the polynomial. What we will do is we will 'sweep' the `degree` hyperparameter that sets the degree for the polynomial, and create a list of learned models.  collect the loss for each setting and create a plot.\n",
    "\n",
    "Because we repeat the same process over and over, it is more convenient to define a function that fits a model with the required number of polynomials and return the model."
   ]
  },
  {
   "cell_type": "code",
   "execution_count": 3,
   "metadata": {},
   "outputs": [],
   "source": [
    "def fit_poly(degree=1):\n",
    "    data = dam(degree=degree, scale=True)\n",
    "    model = linear_regression_ne(data)\n",
    "    model.train(verbose=False, bar=False) # turn off output to the console\n",
    "    return model"
   ]
  },
  {
   "cell_type": "markdown",
   "metadata": {},
   "source": [
    "# Comprehensions\n",
    "\n",
    "If you are not yet familiar with Python's Comprehensions, it is a short way to describe a collection of elements. In this case, a List Comprehension is used to create a List of models. The `for` loop iterates over the ranges 1 through 19 (the upperbound 20 in range is exclusive), and for every degree the fit_poly function is called and the result stored in the List.\n",
    "\n",
    "Likewise, we can use a List Comprehension to loop over the models en extract a list of training loss, validation loss and the degree used for the polynomials."
   ]
  },
  {
   "cell_type": "code",
   "execution_count": 17,
   "metadata": {},
   "outputs": [],
   "source": [
    "models = [ fit_poly(degree) for degree in range(1,12) ]\n",
    "train_loss = [ m.train_loss() for m in models ]\n",
    "valid_loss = [ m.valid_loss() for m in models ]\n",
    "degrees = [ m.data.degree for m in models ]"
   ]
  },
  {
   "cell_type": "markdown",
   "metadata": {},
   "source": [
    "When we look at the training loss we should see that if we add more information the loss is lower. So it may appear that more complex a model is the better it performs."
   ]
  },
  {
   "cell_type": "code",
   "execution_count": 23,
   "metadata": {},
   "outputs": [
    {
     "data": {
      "text/plain": [
       "[536.9737558826139,\n",
       " 24.44786767046427,\n",
       " 17.192770930717984,\n",
       " 7.291491053981278,\n",
       " 5.0039069783124885,\n",
       " 4.753270635063327,\n",
       " 0.935502622524722,\n",
       " 0.6933657379871574,\n",
       " 0.5701988534985516,\n",
       " 0.10831135833332922,\n",
       " 8.87501256101205e-25]"
      ]
     },
     "execution_count": 23,
     "metadata": {},
     "output_type": "execute_result"
    }
   ],
   "source": [
    "train_loss"
   ]
  },
  {
   "cell_type": "markdown",
   "metadata": {},
   "source": [
    "Now we plot a graph. The most commonly used and most extensive library for plotting is MatplotLib, from which the PyPlot module is imported by ML as `plt`."
   ]
  },
  {
   "cell_type": "code",
   "execution_count": 21,
   "metadata": {},
   "outputs": [],
   "source": [
    "def plot(x, series, ylabel='loss', xlabel='epochs', yscale = None):\n",
    "    for label,y in series.items():\n",
    "        plt.plot(x, y, label=label)\n",
    "    plt.ylabel(ylabel)\n",
    "    plt.xlabel(xlabel)\n",
    "    plt.ylim((0,2000))\n",
    "    if yscale is not None:\n",
    "        plt.yscale(yscale)\n",
    "    plt.legend()\n",
    "    plt.show()"
   ]
  },
  {
   "cell_type": "markdown",
   "metadata": {},
   "source": [
    "We then create a plot not just with the training loss, but also with the validation loss. On the x-axis is the degree of the polynomials. And we see that although the training loss keeps improving, the validation loss goes up after degree=3. Since the validation set consists of data that was not used in training, this is an unbiased sample to validate the model. The minimum is usually where the model performs best."
   ]
  },
  {
   "cell_type": "code",
   "execution_count": 22,
   "metadata": {},
   "outputs": [
    {
     "data": {
      "image/png": "[encoded data removed]",
      "text/plain": [
       "<Figure size 432x288 with 1 Axes>"
      ]
     },
     "metadata": {
      "needs_background": "light"
     },
     "output_type": "display_data"
    }
   ],
   "source": [
    "plot(degrees, {'train':train_loss, 'valid':valid_loss}, xlabel='degree')"
   ]
  },
  {
   "cell_type": "code",
   "execution_count": null,
   "metadata": {},
   "outputs": [],
   "source": []
  }
 ],
 "metadata": {
  "kernelspec": {
   "display_name": "Python 3",
   "language": "python",
   "name": "python3"
  },
  "language_info": {
   "codemirror_mode": {
    "name": "ipython",
    "version": 3
   },
   "file_extension": ".py",
   "mimetype": "text/x-python",
   "name": "python",
   "nbconvert_exporter": "python",
   "pygments_lexer": "ipython3",
   "version": "3.6.10"
  },
  "toc": {
   "base_numbering": 1,
   "nav_menu": {},
   "number_sections": true,
   "sideBar": true,
   "skip_h1_title": true,
   "title_cell": "Table of Contents",
   "title_sidebar": "Contents",
   "toc_cell": false,
   "toc_position": {},
   "toc_section_display": true,
   "toc_window_display": false
  }
 },
 "nbformat": 4,
 "nbformat_minor": 2
}
