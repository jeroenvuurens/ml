{
 "cells": [
  {
   "cell_type": "markdown",
   "metadata": {},
   "source": [
    "# L5.9 Outliers"
   ]
  },
  {
   "cell_type": "code",
   "execution_count": 136,
   "metadata": {},
   "outputs": [],
   "source": [
    "from ml import *\n",
    "from sklearn.preprocessing import StandardScaler, PolynomialFeatures\n",
    "from sklearn.linear_model import LinearRegression\n",
    "from sklearn.metrics import mean_squared_error\n",
    "from math import sqrt"
   ]
  },
  {
   "cell_type": "code",
   "execution_count": 137,
   "metadata": {},
   "outputs": [],
   "source": [
    "df = pd.read_csv('/data/datasets/cleanhouses.csv')"
   ]
  },
  {
   "cell_type": "code",
   "execution_count": 138,
   "metadata": {},
   "outputs": [],
   "source": [
    "train_X, valid_X, train_y, valid_y = train_test_split(df[['GrLivArea']], df[['SalePrice']])"
   ]
  },
  {
   "cell_type": "markdown",
   "metadata": {},
   "source": [
    "We scale the data and fit like normal on the training set and then observe the distance"
   ]
  },
  {
   "cell_type": "code",
   "execution_count": 139,
   "metadata": {},
   "outputs": [
    {
     "data": {
      "text/plain": [
       "56944.10189075301"
      ]
     },
     "execution_count": 139,
     "metadata": {},
     "output_type": "execute_result"
    }
   ],
   "source": [
    "# normalize the data and fit a model\n",
    "scaler = StandardScaler()\n",
    "train_X2 = scaler.fit_transform(train_X)\n",
    "valid_X2 = scaler.transform(valid_X)\n",
    "model = LinearRegression()\n",
    "model.fit(train_X2, train_y)\n",
    "sqrt(mean_squared_error(valid_y, model.predict(valid_X2)))"
   ]
  },
  {
   "cell_type": "markdown",
   "metadata": {},
   "source": [
    "# Outliers\n",
    "\n",
    "Outliers is also something that we should be aware of. Why? Because outliers in the training set can markedly affect our models. In the validation set, outliers will obscure our sense of if a model is trained well. However, they can also be a valuable source of information, providing us insights about specific behaviours.\n",
    "\n",
    "Outliers is a complex subject and it deserves more attention. Here, we'll just do a quick analysis through the standard deviation of 'SalePrice' and a set of scatter plots.\n",
    "\n",
    "One of the easiest ways to find outliers is to convert the scale of variables to a zero mean and 1 standard deviation. Although the distribution of a variable is not necessarily Normal, a large deviation from the mean is a simple indication of being an outlier. Remember that for Normally distributed variables, only 0.1% of the data will be more than 3\\*SD away from the mean. "
   ]
  },
  {
   "cell_type": "markdown",
   "metadata": {},
   "source": [
    "### Z-score ouliers\n",
    "\n",
    "We can apply a standard scaler to convert the scores to a z-distribution. We may observe values that are 6 or 7 standard deviations away from the mean. However, since there are quite a few values far away from the mean, we are likely to not have Normally distributed data, e.g. the data may be skewed, binomial, poisson, etc."
   ]
  },
  {
   "cell_type": "code",
   "execution_count": 140,
   "metadata": {},
   "outputs": [
    {
     "name": "stdout",
     "output_type": "stream",
     "text": [
      "\n",
      "outer range (high) of the distribution:\n",
      "[[3.21647677]\n",
      " [3.29341043]\n",
      " [3.51107642]\n",
      " [3.60865083]\n",
      " [3.69496665]\n",
      " [3.9107562 ]\n",
      " [3.94640839]\n",
      " [5.23926929]\n",
      " [5.53949824]\n",
      " [7.72741668]]\n"
     ]
    }
   ],
   "source": [
    "#standardizing data\n",
    "saleprice_scaled = StandardScaler().fit_transform(train_X);\n",
    "high_range = saleprice_scaled[saleprice_scaled[:,0].argsort()][-10:]\n",
    "print('\\nouter range (high) of the distribution:')\n",
    "print(high_range)"
   ]
  },
  {
   "cell_type": "markdown",
   "metadata": {},
   "source": [
    "Therefore it may be better to first convert the data to a normal distribution and then inspect for outliers. We can do that using a box-cox transformation."
   ]
  },
  {
   "cell_type": "code",
   "execution_count": 141,
   "metadata": {},
   "outputs": [
    {
     "name": "stderr",
     "output_type": "stream",
     "text": [
      "/opt/jupyterhub/anaconda/lib/python3.6/site-packages/seaborn/distributions.py:2551: FutureWarning: `distplot` is a deprecated function and will be removed in a future version. Please adapt your code to use either `displot` (a figure-level function with similar flexibility) or `histplot` (an axes-level function for histograms).\n",
      "  warnings.warn(msg, FutureWarning)\n"
     ]
    },
    {
     "data": {
      "image/png": "[encoded data removed]",
      "text/plain": [
       "<Figure size 432x288 with 1 Axes>"
      ]
     },
     "metadata": {
      "needs_background": "light"
     },
     "output_type": "display_data"
    }
   ],
   "source": [
    "from scipy import stats\n",
    "#histogram and normal probability plot\n",
    "sns.distplot(df.SalePrice, fit=stats.norm);\n",
    "#fig = plt.figure()\n",
    "\n",
    "# alternatively you could plot a qq plot\n",
    "#res = stats.probplot(df.SalePrice, plot=plt)"
   ]
  },
  {
   "cell_type": "markdown",
   "metadata": {},
   "source": [
    "If SalePrice was normal distributed, the shape would more closely match the bell shape of the fitted normal distribution. The shape does not fit because on the one hand there is a skew (the peak is clearly left of the peak of the normal distribution) and slighty more difficult to see is the peakedness (kurtosis) since the ascent is more straight than curved. A somewhat easier way to check whether the data is normal distributed is to use a probability plot. If the data is normally distributed, the points would be closer to a straight line. \n",
    "\n",
    "The probablility plot also shows if the variance is constant throughout the range, and it is not. We can see the likelihood of the tails exceeds the fitted line. We can run a Box-Cox test to see if there is a transformation that is justified to normalize the data by a simple data transformation. The result of the test tells us what transformation function to use:\n",
    "\n",
    "| Box-Cox | transformation of Y |\n",
    "| -- | -- |\n",
    "| -3 | $-Y^{-3}$ |\n",
    "| -2 | $-Y^{-2}$ |\n",
    "| -1 | $-1/Y$ |\n",
    "| -0.5 | $-1/\\sqrt Y$ |\n",
    "| 0 | $log(Y)$ |\n",
    "| 0.5 | $\\sqrt Y$ |\n",
    "| 1 | $Y$ |\n",
    "| 2 | $Y^2$ |\n",
    "| 3 | $Y^3$ |"
   ]
  },
  {
   "cell_type": "code",
   "execution_count": 142,
   "metadata": {},
   "outputs": [
    {
     "data": {
      "text/plain": [
       "0.008580645569093777"
      ]
     },
     "execution_count": 142,
     "metadata": {},
     "output_type": "execute_result"
    }
   ],
   "source": [
    "boxcox = stats.boxcox(train_X.GrLivArea)[1]\n",
    "boxcox"
   ]
  },
  {
   "cell_type": "markdown",
   "metadata": {},
   "source": [
    "The Box-Cox test gives us a small negative number, therefore either $-SalePrice^{boxcox}$ or using $log(SalePrice)$ should bring us closer to a normal distribution. Since the value is close to 0, a log transformation should work fine, but we will show both and compare."
   ]
  },
  {
   "cell_type": "code",
   "execution_count": 143,
   "metadata": {},
   "outputs": [
    {
     "name": "stderr",
     "output_type": "stream",
     "text": [
      "/opt/jupyterhub/anaconda/lib/python3.6/site-packages/seaborn/distributions.py:2551: FutureWarning: `distplot` is a deprecated function and will be removed in a future version. Please adapt your code to use either `displot` (a figure-level function with similar flexibility) or `histplot` (an axes-level function for histograms).\n",
      "  warnings.warn(msg, FutureWarning)\n"
     ]
    },
    {
     "data": {
      "image/png": "[encoded data removed]",
      "text/plain": [
       "<Figure size 432x288 with 1 Axes>"
      ]
     },
     "metadata": {
      "needs_background": "light"
     },
     "output_type": "display_data"
    }
   ],
   "source": [
    "#histogram and normal probability plot\n",
    "train_XT = -train_X ** boxcox\n",
    "sns.distplot(train_XT, fit=norm);"
   ]
  },
  {
   "cell_type": "markdown",
   "metadata": {},
   "source": [
    "### Remove extreme values\n",
    "\n",
    "First we we inspect the z-scores below -3.5 and above 3.5. These are 3.5 standard deviation from the mean, meaning the chance of removing such a point given the normal distribution of the data is about 0.05%. Note that this threshold is arbitrary, but we often do not want to remove outliers too aggressively since we might lose predictive values around edges or when extrapolating."
   ]
  },
  {
   "cell_type": "code",
   "execution_count": 144,
   "metadata": {},
   "outputs": [
    {
     "name": "stdout",
     "output_type": "stream",
     "text": [
      "\n",
      "outer range (low) of the distribution:\n",
      "[-4.08628892]\n"
     ]
    }
   ],
   "source": [
    "train_XZ = StandardScaler().fit_transform(train_XT);\n",
    "low_range = train_XZ[train_XZ < -3.5]\n",
    "print('\\nouter range (low) of the distribution:')\n",
    "print(low_range)"
   ]
  },
  {
   "cell_type": "code",
   "execution_count": 145,
   "metadata": {},
   "outputs": [
    {
     "name": "stdout",
     "output_type": "stream",
     "text": [
      "\n",
      "outer range (high) of the distribution:\n",
      "[4.32295494]\n"
     ]
    }
   ],
   "source": [
    "high_range = train_XZ[train_XZ > 3.5]\n",
    "print('\\nouter range (high) of the distribution:')\n",
    "print(high_range)"
   ]
  },
  {
   "cell_type": "markdown",
   "metadata": {},
   "source": [
    "remove them from both X and y in the training set."
   ]
  },
  {
   "cell_type": "code",
   "execution_count": 146,
   "metadata": {},
   "outputs": [],
   "source": [
    "#deleting points\n",
    "train_XD = train_X[(train_XZ > -3.5) & (train_XZ < 3.5)]\n",
    "train_yD = train_y[(train_XZ > -3.5) & (train_XZ < 3.5)]"
   ]
  },
  {
   "cell_type": "markdown",
   "metadata": {},
   "source": [
    "Visually we can see the extreme outliers are gone."
   ]
  },
  {
   "cell_type": "code",
   "execution_count": 147,
   "metadata": {},
   "outputs": [
    {
     "name": "stderr",
     "output_type": "stream",
     "text": [
      "/opt/jupyterhub/anaconda/lib/python3.6/site-packages/seaborn/distributions.py:2551: FutureWarning: `distplot` is a deprecated function and will be removed in a future version. Please adapt your code to use either `displot` (a figure-level function with similar flexibility) or `histplot` (an axes-level function for histograms).\n",
      "  warnings.warn(msg, FutureWarning)\n"
     ]
    },
    {
     "data": {
      "image/png": "[encoded data removed]",
      "text/plain": [
       "<Figure size 432x288 with 1 Axes>"
      ]
     },
     "metadata": {
      "needs_background": "light"
     },
     "output_type": "display_data"
    }
   ],
   "source": [
    "boxcox = stats.boxcox(train_XD.GrLivArea)[1]\n",
    "sns.distplot(-train_XD ** boxcox, fit=stats.norm);"
   ]
  },
  {
   "cell_type": "markdown",
   "metadata": {},
   "source": [
    "### Training on a set with less outliers\n",
    "\n",
    "We then perform the same pipeline, scaling the data (note that does not really matter for linear regression) and fitting on the training set with outliers dropped.\n",
    "\n",
    "Note that for a proper validation, we did NOT remove outliers from the validation set. And we should see that the fit on the validation set improves. In other words, we have learned a model that generalizes better or has a better predictive power on unseen data."
   ]
  },
  {
   "cell_type": "code",
   "execution_count": 148,
   "metadata": {},
   "outputs": [
    {
     "data": {
      "text/plain": [
       "57276.78276234779"
      ]
     },
     "execution_count": 148,
     "metadata": {},
     "output_type": "execute_result"
    }
   ],
   "source": [
    "train_XD2 = scaler.fit_transform(train_XD)\n",
    "valid_X2 = scaler.transform(valid_X)\n",
    "model = LinearRegression()\n",
    "model.fit(train_XD2, train_yD)\n",
    "sqrt(mean_squared_error(valid_y, model.predict(valid_X2)))"
   ]
  },
  {
   "cell_type": "code",
   "execution_count": null,
   "metadata": {},
   "outputs": [],
   "source": []
  }
 ],
 "metadata": {
  "kernelspec": {
   "display_name": "Python 3",
   "language": "python",
   "name": "python3"
  },
  "language_info": {
   "codemirror_mode": {
    "name": "ipython",
    "version": 3
   },
   "file_extension": ".py",
   "mimetype": "text/x-python",
   "name": "python",
   "nbconvert_exporter": "python",
   "pygments_lexer": "ipython3",
   "version": "3.6.10"
  },
  "toc": {
   "base_numbering": 1,
   "nav_menu": {},
   "number_sections": true,
   "sideBar": true,
   "skip_h1_title": true,
   "title_cell": "Table of Contents",
   "title_sidebar": "Contents",
   "toc_cell": false,
   "toc_position": {},
   "toc_section_display": true,
   "toc_window_display": false
  }
 },
 "nbformat": 4,
 "nbformat_minor": 2
}
