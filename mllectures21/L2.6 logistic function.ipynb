{
 "cells": [
  {
   "cell_type": "code",
   "execution_count": 1,
   "metadata": {},
   "outputs": [],
   "source": [
    "from ml import *"
   ]
  },
  {
   "cell_type": "markdown",
   "metadata": {},
   "source": [
    "# Logistic function\n",
    "\n",
    "Since we are not interested in values below $0$ or above $1$, we can use a function that caps all outcomes between 0 and 1. Additionally, since we are trying to find a maximum likelihood $P( y = 1| x )$, we would rather use a function that is related to likelihood estimation. One function that meets these requirements is the logistic function: \n",
    "\n",
    "$$ logit(z) = \\frac{e^z}{1 + e^z} = \\frac{1}{1+e^{-z}} $$\n",
    "\n",
    "The logistic function can be derived from the odds-ratio $O$. The odds-ratio is defined as the fraction between the likelihood of an event occurring and the likelihood of an event not occurring. Thus, the likelihood $P$ and odds-ratio $O$ are related as follows:\n",
    "\n",
    "$$ O = \\frac{P}{1-P}, P = \\frac{O}{1+O} $$\n",
    "\n",
    "To apply the logistic function to a linear regression model $\\theta^T \\cdot x$, we simply transform the output of a linear regression hypothesis with the logistic function. This transformation means that we are not estimating a value for $y$, but rather the likelihood that $y = 1$:\n",
    "\n",
    "$$ P(y = 1|x; \\theta) = logit( \\theta^T \\cdot x ) = \\frac{1}{1+e^{-\\theta^T \\cdot x}} $$\n",
    "\n",
    "The consequence of this transformation is that the model then tries to fit $\\theta$ such that:\n",
    "\n",
    "$$ e^{\\theta^T \\cdot x} = \\frac{P}{1-P} = Odds-ratio $$"
   ]
  },
  {
   "cell_type": "markdown",
   "metadata": {},
   "source": [
    "# Analyzing the Logistic function\n",
    "\n",
    "The logistic function is shown in the graph below, and we observe that indeed the outcomes are constrained between $0$ and $1$. We interpret the outcome as $y=1$ when $P(y=1|z) \\ge 0$, and $y=0$ otherwise. Thus, the decision boundary between predicting 0 and 1 will be at $z=0$; to maximize our prediction, for $z < 0$ we will predict $y=0$ and for $z \\ge 0$ we will predict $y=1$.\n",
    "\n",
    "We will finally summarize a few interesting properties of using the logistic function for classification:\n",
    "\n",
    "- It is a non-linear function that pushes the outcomes towards respectively 0 and 1. We will see that, regardless, the decision boundary will be linear unless we use higher order polynomials. \n",
    "- By constraining the upper bound to 1, the model becomes ignorant to the difference between fair, good and excellent wines beacuse they all receive predictions close to 1. This means that model is less affected by outliers than least squares linear regression is."
   ]
  },
  {
   "cell_type": "code",
   "execution_count": 2,
   "metadata": {},
   "outputs": [
    {
     "data": {
      "image/png": "[encoded data removed]",
      "text/plain": [
       "<Figure size 432x288 with 1 Axes>"
      ]
     },
     "metadata": {
      "needs_background": "light"
     },
     "output_type": "display_data"
    }
   ],
   "source": [
    "def logistic(z):\n",
    "    return 1.0 / (1.0 + np.exp(-z))\n",
    "\n",
    "z = np.arange(-7, 7, 0.1)\n",
    "\n",
    "plt.plot(z, logistic(z))\n",
    "plt.axvline(0.0, color='k')\n",
    "plt.ylim(-0.1, 1.1)\n",
    "plt.xlabel('z')\n",
    "plt.ylabel('$logit(z)$')\n",
    "plt.title('logistic function')\n",
    "# y axis ticks and gridline\n",
    "plt.yticks([0.0, 0.5, 1.0])\n",
    "ax = plt.gca()\n",
    "ax.yaxis.grid(True)"
   ]
  }
 ],
 "metadata": {
  "kernelspec": {
   "display_name": "Python 3",
   "language": "python",
   "name": "python3"
  },
  "language_info": {
   "codemirror_mode": {
    "name": "ipython",
    "version": 3
   },
   "file_extension": ".py",
   "mimetype": "text/x-python",
   "name": "python",
   "nbconvert_exporter": "python",
   "pygments_lexer": "ipython3",
   "version": "3.6.8"
  },
  "toc": {
   "base_numbering": 1,
   "nav_menu": {},
   "number_sections": true,
   "sideBar": true,
   "skip_h1_title": true,
   "title_cell": "Table of Contents",
   "title_sidebar": "Contents",
   "toc_cell": false,
   "toc_position": {},
   "toc_section_display": true,
   "toc_window_display": false
  }
 },
 "nbformat": 4,
 "nbformat_minor": 2
}
