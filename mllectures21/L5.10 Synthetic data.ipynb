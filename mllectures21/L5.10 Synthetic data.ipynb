{
 "cells": [
  {
   "cell_type": "markdown",
   "metadata": {},
   "source": [
    "# Synthetic data\n",
    "\n",
    "Machine learning algorithms are susceptible to overfitting on small datasets. Although we cannot always obtain a bigger dataset to prevent this, sometimes we can generate synthetic examples that will do just fine. There are a lot of ways to generate synthetic examples:\n",
    "- Add a bit of Gaussian noise to values\n",
    "- Take the average of Nearest Neighbors\n",
    "- Clone samples with part of the information removed\n",
    "- In image processing: flipping, zooming or panning images\n",
    "- In audio processing: slightly changing the pitch\n",
    "- etc."
   ]
  },
  {
   "cell_type": "markdown",
   "metadata": {},
   "source": [
    "### Loading pickled data\n",
    "\n",
    "The dam dataset comes in a file that was pickled in Python. Pickling is a way to write values of Python variables to file so that you can load them from file again. Pickling is very fast. In this case the dataset was already split in a train and validation set. Note that this example of adding Gaussian noise is not perfect, a 3rd order polynomial gives better results than a "
   ]
  },
  {
   "cell_type": "code",
   "execution_count": 5,
   "metadata": {},
   "outputs": [],
   "source": [
    "import pickle\n",
    "import numpy as np\n",
    "import pandas as pd\n",
    "from matplotlib import pyplot as plt\n",
    "from sklearn.preprocessing import StandardScaler, PolynomialFeatures\n",
    "from sklearn.linear_model import LinearRegression\n",
    "from sklearn.metrics import mean_squared_error\n",
    "from math import sqrt"
   ]
  },
  {
   "cell_type": "code",
   "execution_count": 6,
   "metadata": {},
   "outputs": [],
   "source": [
    "train_X, valid_X, test_X, all_X, train_y, valid_y, test_y, all_y = range(8)\n",
    "with open(\"/data/datasets/dam_water_data.pickle\", \"rb\") as myfile:\n",
    "    train_X, valid_X, test_X, all_X, train_y, valid_y, test_y, all_y = pickle.load(myfile)"
   ]
  },
  {
   "cell_type": "code",
   "execution_count": 116,
   "metadata": {},
   "outputs": [],
   "source": [
    "class Data:\n",
    "    def __init__(self, train_X, train_y, valid_X, valid_y, degree=5):\n",
    "        self.scaler = StandardScaler()\n",
    "        self.poly = PolynomialFeatures(degree=degree)\n",
    "        self.train_X = train_X\n",
    "        self.train_y = train_y\n",
    "        self.valid_X = valid_X\n",
    "        self.valid_y = valid_y\n",
    "        self.add_noise(0, 0)\n",
    "\n",
    "    def add_noise(self, sigma, n=10):\n",
    "        \"\"\"\n",
    "        duplicate the features n times, adding Guassian noise with a \n",
    "        standard deviation of sigma both to X and y\n",
    "        \"\"\"\n",
    "        self.train_XN = self.train_X\n",
    "        self.train_yN = self.train_y\n",
    "        for i in range(n):\n",
    "            noise = np.random.normal(0, sigma, self.train_X.shape) \n",
    "            self.train_XN = np.concatenate([self.train_XN, self.train_X + noise])\n",
    "            noise = np.random.normal(0, sigma, self.train_y.shape) \n",
    "            self.train_yN = np.concatenate([self.train_yN, self.train_y + noise])\n",
    "        self.train_XP = self.poly.fit_transform(self.train_XN)\n",
    "        self.train_XS = self.scaler.fit_transform(self.train_XP)\n",
    "        self.valid_XP = self.poly.fit_transform(self.valid_X)\n",
    "        self.valid_XS = self.scaler.transform(self.valid_XP)\n",
    "    \n",
    "data = Data(train_X, train_y, valid_X, valid_y) "
   ]
  },
  {
   "cell_type": "markdown",
   "metadata": {},
   "source": [
    "What is the RMSE when we do notapply any noise."
   ]
  },
  {
   "cell_type": "code",
   "execution_count": 117,
   "metadata": {},
   "outputs": [
    {
     "data": {
      "text/plain": [
       "5.590990441734135"
      ]
     },
     "execution_count": 117,
     "metadata": {},
     "output_type": "execute_result"
    }
   ],
   "source": [
    "model = LinearRegression()\n",
    "model.fit(data.train_XS, data.train_yN)\n",
    "sqrt(mean_squared_error(data.valid_y, model.predict(data.valid_XS)))"
   ]
  },
  {
   "cell_type": "markdown",
   "metadata": {},
   "source": [
    "Now setup an experiment to add sigma noise, and repeat for a range of sigma's."
   ]
  },
  {
   "cell_type": "code",
   "execution_count": 118,
   "metadata": {},
   "outputs": [],
   "source": [
    "def experiment(sigma):\n",
    "    data.add_noise(sigma, 10)\n",
    "    model = LinearRegression()\n",
    "    model.fit(data.train_XS, data.train_yN)\n",
    "    return sqrt(mean_squared_error(data.valid_y, model.predict(data.valid_XS)))\n",
    "    \n",
    "def avg_exp(sigma):\n",
    "    s = [ experiment(sigma) for i in range(100) ]\n",
    "    return sum(s)/len(s)"
   ]
  },
  {
   "cell_type": "markdown",
   "metadata": {},
   "source": [
    "Repeat for sigma=0, 0.5, 1, 1.5, ... 20\n",
    "And we see that adding synthetic data with a bit of noise greatly helps in reducing overfitting."
   ]
  },
  {
   "cell_type": "code",
   "execution_count": 123,
   "metadata": {},
   "outputs": [
    {
     "data": {
      "text/plain": [
       "Text(0.5, 0, 'sigma for Guassian noise')"
      ]
     },
     "execution_count": 123,
     "metadata": {},
     "output_type": "execute_result"
    },
    {
     "data": {
      "image/png": "[encoded data removed]",
      "text/plain": [
       "<Figure size 432x288 with 1 Axes>"
      ]
     },
     "metadata": {
      "needs_background": "light"
     },
     "output_type": "display_data"
    }
   ],
   "source": [
    "x = np.arange(0, 20, 0.5)\n",
    "y = [ avg_exp(sigma) for sigma in x ]\n",
    "plt.plot(x, y)\n",
    "plt.ylim(5,7)\n",
    "plt.ylabel('rmse')\n",
    "plt.xlabel('sigma for Guassian noise')"
   ]
  },
  {
   "cell_type": "code",
   "execution_count": null,
   "metadata": {},
   "outputs": [],
   "source": []
  }
 ],
 "metadata": {
  "kernelspec": {
   "display_name": "Python 3",
   "language": "python",
   "name": "python3"
  },
  "language_info": {
   "codemirror_mode": {
    "name": "ipython",
    "version": 3
   },
   "file_extension": ".py",
   "mimetype": "text/x-python",
   "name": "python",
   "nbconvert_exporter": "python",
   "pygments_lexer": "ipython3",
   "version": "3.6.10"
  }
 },
 "nbformat": 4,
 "nbformat_minor": 4
}
