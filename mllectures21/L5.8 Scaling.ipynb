{
 "cells": [
  {
   "cell_type": "markdown",
   "metadata": {},
   "source": [
    "# Loading, Polynomials and Scaling data\n",
    "\n",
    "Machine Learning algorithms often use an algorithm to converge to an optimal solution, much like gradient descent. A common problem when values between features differ greatly is that the coefficient learned for one feature is learned quickly and the other slow. This can hinder learning when it causes numerical instability or oscillation when coefficients are iteratively updated. This applies to linear regression, SVM and kNN. For decision trees it does not help much, but nevertheless it is a good practice to always apply. \n"
   ]
  },
  {
   "cell_type": "markdown",
   "metadata": {},
   "source": [
    "### Loading pickled data\n",
    "\n",
    "The dam dataset comes in a file that was pickled in Python. Pickling is a way to write values of Python variables to file so that you can load them from file again. Pickling is very fast. In this case the dataset was already split in a train and vaidation set."
   ]
  },
  {
   "cell_type": "code",
   "execution_count": 29,
   "metadata": {},
   "outputs": [],
   "source": [
    "import pickle\n",
    "import numpy as np\n",
    "from matplotlib import pyplot as plt"
   ]
  },
  {
   "cell_type": "code",
   "execution_count": 18,
   "metadata": {},
   "outputs": [],
   "source": [
    "train_X, valid_X, test_X, all_X, train_y, valid_y, test_y, all_y = range(8)\n",
    "with open(\"/data/datasets/dam_water_data.pickle\", \"rb\") as myfile:\n",
    "    train_X, valid_X, test_X, all_X, train_y, valid_y, test_y, all_y = pickle.load(myfile)\n",
    "\n"
   ]
  },
  {
   "cell_type": "markdown",
   "metadata": {},
   "source": [
    "In fact, what the data objects in the ml library do, is just wrap the data in one object, to minimize the number of parameters you need to pass. Instead of you just create an object and assign train_X, train_y, valid_X and valid_y to it, you will find that is all the models in the ml library need. All the other code in the data loader is just some tools to balance the data, scale the data, add a bias column and plot the data. You can easily write that code yourself."
   ]
  },
  {
   "cell_type": "code",
   "execution_count": 19,
   "metadata": {},
   "outputs": [
    {
     "data": {
      "application/vnd.jupyter.widget-view+json": {
       "model_id": "d5cd44cdd9b64ac28799c97c46ca22fe",
       "version_major": 2,
       "version_minor": 0
      },
      "text/plain": [
       "HBox(children=(IntProgress(value=0, description='Total', max=1, style=ProgressStyle(description_width='initial…"
      ]
     },
     "metadata": {},
     "output_type": "display_data"
    },
    {
     "name": "stdout",
     "output_type": "stream",
     "text": [
      "0 0.00s train loss: 44.747813 valid loss: 58.867636\n",
      "\n"
     ]
    }
   ],
   "source": [
    "class O: pass\n",
    "\n",
    "data = O()\n",
    "data.train_X = train_X\n",
    "data.train_y = train_y\n",
    "data.valid_X = valid_X\n",
    "data.valid_y = valid_y\n",
    "\n",
    "from ml import linear_regression_ne\n",
    "model = linear_regression_ne(data)\n",
    "model.train()"
   ]
  },
  {
   "cell_type": "markdown",
   "metadata": {},
   "source": [
    "### Add polynomials"
   ]
  },
  {
   "cell_type": "markdown",
   "metadata": {},
   "source": [
    "You can add polynomials using a function in SKLearn. You have to supply the degree and for most models turn of the include_bias. "
   ]
  },
  {
   "cell_type": "code",
   "execution_count": 20,
   "metadata": {},
   "outputs": [],
   "source": [
    "from sklearn.preprocessing import PolynomialFeatures"
   ]
  },
  {
   "cell_type": "code",
   "execution_count": 21,
   "metadata": {},
   "outputs": [],
   "source": [
    "poly = PolynomialFeatures(degree=5, include_bias=False)"
   ]
  },
  {
   "cell_type": "code",
   "execution_count": 22,
   "metadata": {},
   "outputs": [],
   "source": [
    "train_X2 = poly.fit_transform(train_X)"
   ]
  },
  {
   "cell_type": "code",
   "execution_count": 23,
   "metadata": {},
   "outputs": [],
   "source": [
    "valid_X2 = poly.fit_transform(valid_X)"
   ]
  },
  {
   "cell_type": "code",
   "execution_count": 24,
   "metadata": {},
   "outputs": [
    {
     "data": {
      "text/plain": [
       "array([[      -15.93675813,       253.98025981,     -4047.62197142,\n",
       "            64505.97237558,  -1028016.07993428],\n",
       "       [      -29.15297922,       849.89619724,    -24777.00617497,\n",
       "           722323.54608423, -21057883.32711544]])"
      ]
     },
     "execution_count": 24,
     "metadata": {},
     "output_type": "execute_result"
    }
   ],
   "source": [
    "train_X2[:2]"
   ]
  },
  {
   "cell_type": "code",
   "execution_count": 25,
   "metadata": {},
   "outputs": [],
   "source": [
    "from sklearn.linear_model import LinearRegression"
   ]
  },
  {
   "cell_type": "code",
   "execution_count": 26,
   "metadata": {},
   "outputs": [],
   "source": [
    "model = LinearRegression()"
   ]
  },
  {
   "cell_type": "code",
   "execution_count": 27,
   "metadata": {},
   "outputs": [],
   "source": [
    "model.fit(train_X2, train_y);"
   ]
  },
  {
   "cell_type": "code",
   "execution_count": 28,
   "metadata": {},
   "outputs": [
    {
     "data": {
      "text/plain": [
       "array([ 1.39055599,  2.18193162, 35.33825261, 36.05218238,  3.28937565,\n",
       "        1.70441824, 14.56450771,  2.49778465,  4.54738248,  2.93366893,\n",
       "        7.70914235, 22.40186929])"
      ]
     },
     "execution_count": 28,
     "metadata": {},
     "output_type": "execute_result"
    }
   ],
   "source": [
    "model.predict(train_X2)"
   ]
  },
  {
   "cell_type": "markdown",
   "metadata": {},
   "source": [
    "create an array of values from -50 to 50 and apply the same polynomials to plot the function line"
   ]
  },
  {
   "cell_type": "code",
   "execution_count": 30,
   "metadata": {},
   "outputs": [],
   "source": [
    "x = poly.fit_transform(np.arange(-50,50).reshape(-1,1))"
   ]
  },
  {
   "cell_type": "code",
   "execution_count": 31,
   "metadata": {},
   "outputs": [
    {
     "data": {
      "image/png": "[encoded data removed]",
      "text/plain": [
       "<Figure size 432x288 with 1 Axes>"
      ]
     },
     "metadata": {
      "needs_background": "light"
     },
     "output_type": "display_data"
    }
   ],
   "source": [
    "plt.scatter(train_X, train_y, marker='x')\n",
    "plt.scatter(valid_X, valid_y, marker='.')\n",
    "plt.plot(x[:,0], model.predict(x));"
   ]
  },
  {
   "cell_type": "markdown",
   "metadata": {},
   "source": [
    "### Scale\n",
    "\n",
    "Machine Learning algorithms often use an algorithm to converge to an optimal solution, much like gradient descent. A common problem when values between features differ greatly is that the coefficient learned for one feature is learned quickly and the other slow. This can hinder learning when it causes numerical instability or oscillation when coefficients are iteratively updated. This applies to linear regression, SVM and kNN. For decision trees it does not help much, but nevertheless it is a good practice to always apply. "
   ]
  },
  {
   "cell_type": "code",
   "execution_count": 32,
   "metadata": {},
   "outputs": [],
   "source": [
    "poly = PolynomialFeatures(degree=14, include_bias=False)\n",
    "train_X2 = poly.fit_transform(train_X)\n",
    "valid_X2 = poly.fit_transform(valid_X)\n",
    "model = LinearRegression()\n",
    "model.fit(train_X2, train_y);"
   ]
  },
  {
   "cell_type": "markdown",
   "metadata": {},
   "source": [
    "In the plot below you can see numerical instability. The function should be able tp fit through the points but it doesn't because of numerical instability."
   ]
  },
  {
   "cell_type": "code",
   "execution_count": 33,
   "metadata": {},
   "outputs": [
    {
     "data": {
      "text/plain": [
       "(-1.0, 60.0)"
      ]
     },
     "execution_count": 33,
     "metadata": {},
     "output_type": "execute_result"
    },
    {
     "data": {
      "image/png": "[encoded data removed]",
      "text/plain": [
       "<Figure size 432x288 with 1 Axes>"
      ]
     },
     "metadata": {
      "needs_background": "light"
     },
     "output_type": "display_data"
    }
   ],
   "source": [
    "x = poly.fit_transform(np.arange(-50,50).reshape(-1,1))\n",
    "\n",
    "plt.scatter(train_X, train_y, marker='x')\n",
    "plt.scatter(valid_X, valid_y, marker='.')\n",
    "plt.plot(x[:,0], model.predict(x))\n",
    "plt.ylim(-1,60)"
   ]
  },
  {
   "cell_type": "markdown",
   "metadata": {},
   "source": [
    "\n",
    "A simple solution is to scale/normalize/standardize your data. Most commonly, the data is converted to a z-distribution which has a zero mean and variance of one. For this we can use the StandardScaler in SKLearn. \n",
    "\n",
    "Note that it is important to use the exact same mean and variance for scaling the training, validation and test set!!! Therefore, make sure you fit the scaler on the training set en only transform the validation and test set."
   ]
  },
  {
   "cell_type": "code",
   "execution_count": 34,
   "metadata": {},
   "outputs": [],
   "source": [
    "from sklearn.preprocessing import StandardScaler"
   ]
  },
  {
   "cell_type": "code",
   "execution_count": 35,
   "metadata": {},
   "outputs": [],
   "source": [
    "scaler = StandardScaler()"
   ]
  },
  {
   "cell_type": "code",
   "execution_count": 38,
   "metadata": {},
   "outputs": [],
   "source": [
    "scaler.fit(train_X2) # determine the mean and variance on the training set\n",
    "train_X3 = scaler.transform(train_X2) # normalize the training set\n",
    "valid_X3 = scaler.transform(valid_X2) # normalize the validation set"
   ]
  },
  {
   "cell_type": "code",
   "execution_count": 39,
   "metadata": {},
   "outputs": [],
   "source": [
    "model = LinearRegression()\n",
    "model.fit(train_X3, train_y);"
   ]
  },
  {
   "cell_type": "markdown",
   "metadata": {},
   "source": [
    "You should see that scaling reduces numerical instability, but also reduces the absurd coeffients we obtained on the unscaled data. Notice however, that the model is still overfit, as we get a connecting the dots solution."
   ]
  },
  {
   "cell_type": "code",
   "execution_count": 41,
   "metadata": {},
   "outputs": [
    {
     "data": {
      "text/plain": [
       "(-1.0, 60.0)"
      ]
     },
     "execution_count": 41,
     "metadata": {},
     "output_type": "execute_result"
    },
    {
     "data": {
      "image/png": "[encoded data removed]",
      "text/plain": [
       "<Figure size 432x288 with 1 Axes>"
      ]
     },
     "metadata": {
      "needs_background": "light"
     },
     "output_type": "display_data"
    }
   ],
   "source": [
    "x = poly.fit_transform(np.arange(-50,50).reshape(-1,1))\n",
    "x3 = scaler.transform(x)\n",
    "\n",
    "plt.scatter(train_X, train_y, marker='x')\n",
    "plt.scatter(valid_X, valid_y, marker='.')\n",
    "plt.plot(x[:,0], model.predict(x3))\n",
    "plt.ylim(-1,60)"
   ]
  },
  {
   "cell_type": "code",
   "execution_count": null,
   "metadata": {},
   "outputs": [],
   "source": []
  }
 ],
 "metadata": {
  "kernelspec": {
   "display_name": "Python 3",
   "language": "python",
   "name": "python3"
  },
  "language_info": {
   "codemirror_mode": {
    "name": "ipython",
    "version": 3
   },
   "file_extension": ".py",
   "mimetype": "text/x-python",
   "name": "python",
   "nbconvert_exporter": "python",
   "pygments_lexer": "ipython3",
   "version": "3.6.10"
  }
 },
 "nbformat": 4,
 "nbformat_minor": 4
}
