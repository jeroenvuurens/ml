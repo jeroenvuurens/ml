{
 "cells": [
  {
   "cell_type": "markdown",
   "metadata": {},
   "source": [
    "# n-Fold Cross Validation\n",
    "\n",
    "When we have a small data set, we can use n-fold cross validation to split the dataset into n-folds, and iteratively use one fold for validation and the remaining folds for testing. The experiment is repeated n times, so n models are learned and we can take the average over the evaluation metric over these n experiments."
   ]
  },
  {
   "cell_type": "markdown",
   "metadata": {},
   "source": [
    "# Data\n",
    "\n",
    "We can use the `KFold` class in SKLearn to split the data into k-folds. KFold.split(X) gives us an iterator over the k-folds returning indices for the training and validation set. "
   ]
  },
  {
   "cell_type": "code",
   "execution_count": 6,
   "metadata": {},
   "outputs": [],
   "source": [
    "from ml import advertising_pd"
   ]
  },
  {
   "cell_type": "code",
   "execution_count": 7,
   "metadata": {},
   "outputs": [],
   "source": [
    "df = advertising_pd()\n",
    "y = df['Sales']\n",
    "X = df[['TV', 'Radio']]"
   ]
  },
  {
   "cell_type": "code",
   "execution_count": 13,
   "metadata": {},
   "outputs": [],
   "source": [
    "from sklearn.metrics import mean_squared_error\n",
    "\n",
    "def sum_squared_error(model, X, y):\n",
    "    \"\"\"return the sum of squared errors over the datapairs in X, y\"\"\"\n",
    "    y_pred = model.predict(X)\n",
    "    return mean_squared_error(y, y_pred) * len(y)"
   ]
  },
  {
   "cell_type": "code",
   "execution_count": 15,
   "metadata": {},
   "outputs": [
    {
     "name": "stdout",
     "output_type": "stream",
     "text": [
      "2.8289825607751085 2.9294040867710303\n"
     ]
    }
   ],
   "source": [
    "from sklearn.model_selection import KFold\n",
    "from sklearn.linear_model import LinearRegression\n",
    "from math import sqrt\n",
    "\n",
    "# a KFold generates train and validation splits. The split contains index numbers so we can apply\n",
    "# the same split to both X and y.\n",
    "kf = KFold(n_splits=3)\n",
    "\n",
    "train_error = 0\n",
    "valid_error = 0\n",
    "for train_ind, valid_ind in kf.split(X):\n",
    "    train_X = X.iloc[train_ind]\n",
    "    valid_X = X.iloc[valid_ind]\n",
    "    train_y = y.iloc[train_ind]\n",
    "    valid_y = y.iloc[valid_ind]\n",
    "    model = LinearRegression()\n",
    "    model.fit(train_X, train_y)\n",
    "    train_error += sum_squared_error(model, train_X, train_y)\n",
    "    valid_error += sum_squared_error(model, valid_X, valid_y)\n",
    "\n",
    "print(sqrt(train_error/ len(train_X)), sqrt(valid_error / len(valid_X)))"
   ]
  },
  {
   "cell_type": "code",
   "execution_count": null,
   "metadata": {},
   "outputs": [],
   "source": []
  }
 ],
 "metadata": {
  "kernelspec": {
   "display_name": "Python 3",
   "language": "python",
   "name": "python3"
  },
  "language_info": {
   "codemirror_mode": {
    "name": "ipython",
    "version": 3
   },
   "file_extension": ".py",
   "mimetype": "text/x-python",
   "name": "python",
   "nbconvert_exporter": "python",
   "pygments_lexer": "ipython3",
   "version": "3.6.10"
  },
  "toc": {
   "base_numbering": 1,
   "nav_menu": {},
   "number_sections": true,
   "sideBar": true,
   "skip_h1_title": true,
   "title_cell": "Table of Contents",
   "title_sidebar": "Contents",
   "toc_cell": false,
   "toc_position": {},
   "toc_section_display": true,
   "toc_window_display": false
  }
 },
 "nbformat": 4,
 "nbformat_minor": 2
}
