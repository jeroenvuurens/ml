{
 "cells": [
  {
   "cell_type": "markdown",
   "metadata": {},
   "source": [
    "# Polynomial & Multivariate Regression\n",
    "\n",
    "We have seen that for a single input feature, we can fit a polynomial function of the form:\n",
    "\n",
    "$$y = a \\cdot x + b \\cdot x^2 + c \\cdot x^3 + .... + z$$\n",
    "\n",
    "In the case of multivariate models, we can also add mixtures, e.g. for a second-degree polynomial over two features:\n",
    "\n",
    "$$ y = a \\cdot x_1 + b \\cdot x_2 + c \\cdot x_1^2 + d \\cdot x_1 \\cdot x_2 + e \\cdot x_2^2 + f $$\n",
    "\n",
    "The two can simply be combined."
   ]
  },
  {
   "cell_type": "code",
   "execution_count": 1,
   "metadata": {},
   "outputs": [],
   "source": [
    "from ml import *"
   ]
  },
  {
   "cell_type": "code",
   "execution_count": 2,
   "metadata": {},
   "outputs": [],
   "source": [
    "data = wines('quality', 'alcohol', 'pH', degree=2)"
   ]
  },
  {
   "cell_type": "markdown",
   "metadata": {},
   "source": [
    "So we now see that the columns contain from left to right: $alcohol$, $ph$, $alcohol^2$, $alcohol \\cdot ph$, $ph^2$."
   ]
  },
  {
   "cell_type": "code",
   "execution_count": 3,
   "metadata": {},
   "outputs": [
    {
     "data": {
      "text/plain": [
       "array([[ 12.2   ,   3.34  , 148.84  ,  40.748 ,  11.1556],\n",
       "       [ 10.    ,   3.05  , 100.    ,  30.5   ,   9.3025],\n",
       "       [ 12.8   ,   3.22  , 163.84  ,  41.216 ,  10.3684],\n",
       "       ...,\n",
       "       [ 12.2   ,   3.2   , 148.84  ,  39.04  ,  10.24  ],\n",
       "       [ 11.2   ,   3.31  , 125.44  ,  37.072 ,  10.9561],\n",
       "       [  9.3   ,   3.1   ,  86.49  ,  28.83  ,   9.61  ]])"
      ]
     },
     "execution_count": 3,
     "metadata": {},
     "output_type": "execute_result"
    }
   ],
   "source": [
    "data.train_X"
   ]
  },
  {
   "cell_type": "markdown",
   "metadata": {},
   "source": [
    "And we see that the results improved somewhat on the training set, when we consider the loss. "
   ]
  },
  {
   "cell_type": "code",
   "execution_count": 4,
   "metadata": {},
   "outputs": [
    {
     "data": {
      "application/vnd.jupyter.widget-view+json": {
       "model_id": "9864adde73f34807a928bd08e8a3cc35",
       "version_major": 2,
       "version_minor": 0
      },
      "text/plain": [
       "HBox(children=(IntProgress(value=0, description='Total', max=1, style=ProgressStyle(description_width='initial…"
      ]
     },
     "metadata": {},
     "output_type": "display_data"
    },
    {
     "name": "stdout",
     "output_type": "stream",
     "text": [
      "1 0.00s train loss: 0.491617 valid loss: 0.457492\n",
      "\n"
     ]
    },
    {
     "data": {
      "image/png": "[encoded data removed]",
      "text/plain": [
       "<Figure size 432x288 with 1 Axes>"
      ]
     },
     "metadata": {
      "needs_background": "light"
     },
     "output_type": "display_data"
    }
   ],
   "source": [
    "model = linear_regression_ne(data)\n",
    "model.train()\n",
    "model.data.plot()\n",
    "model.plot_train_line(marker='.')"
   ]
  },
  {
   "cell_type": "code",
   "execution_count": null,
   "metadata": {},
   "outputs": [],
   "source": []
  }
 ],
 "metadata": {
  "kernelspec": {
   "display_name": "Python 3",
   "language": "python",
   "name": "python3"
  },
  "language_info": {
   "codemirror_mode": {
    "name": "ipython",
    "version": 3
   },
   "file_extension": ".py",
   "mimetype": "text/x-python",
   "name": "python",
   "nbconvert_exporter": "python",
   "pygments_lexer": "ipython3",
   "version": "3.6.8"
  },
  "toc": {
   "base_numbering": 1,
   "nav_menu": {},
   "number_sections": true,
   "sideBar": true,
   "skip_h1_title": true,
   "title_cell": "Table of Contents",
   "title_sidebar": "Contents",
   "toc_cell": false,
   "toc_position": {},
   "toc_section_display": true,
   "toc_window_display": false
  }
 },
 "nbformat": 4,
 "nbformat_minor": 2
}
