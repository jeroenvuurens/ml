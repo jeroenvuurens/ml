{
 "cells": [
  {
   "cell_type": "markdown",
   "metadata": {},
   "source": [
    "# Linear Regression in Python"
   ]
  },
  {
   "cell_type": "markdown",
   "metadata": {},
   "source": [
    "# Inductive Learning\n",
    "\n",
    "In machine learning we aim to learn general concepts from specific examples, which is called **inductive learning**. There are two different settings from machine learning: supervised and unsupervised learning. For now we focus on **supervised learning**, meaning that the learning algorithm has access to the known correct value of the target variable for every example.\n",
    "\n",
    "Generalization refers to how well the concepts learned by a machine learning model apply to specific examples not seen by the model when it was learning. The goal of a good machine learning model is to generalize well from the training data to new data from the same problem domain. This allows us to make predictions in the future on data the model has never seen."
   ]
  },
  {
   "cell_type": "markdown",
   "metadata": {},
   "source": [
    "# ML\n",
    "\n",
    "As a first experience to machine learning, we will fit a linear regression model using the `ml` library for this course. This allows us to use a top-down approach in which we focus on the basic steps to learn a model and look at the results, without looking at the details of how to actually fit a model. Later on the course we will look what is used under the hood to write the code for a machine learning experiment from scratch.\n",
    "\n",
    "We first need to import the required library."
   ]
  },
  {
   "cell_type": "code",
   "execution_count": 1,
   "metadata": {},
   "outputs": [],
   "source": [
    "from ml import *"
   ]
  },
  {
   "cell_type": "markdown",
   "metadata": {},
   "source": [
    "# Steps for Machine Learning\n",
    "\n",
    "To learn a predictive model we need to:\n",
    "- load and prepare the data\n",
    "- choose and configure a model\n",
    "- learn the model\n",
    "- validate the model: to ensure that the model was learned correctly/optimally"
   ]
  },
  {
   "cell_type": "markdown",
   "metadata": {},
   "source": [
    "# Load and prepare the data"
   ]
  },
  {
   "cell_type": "markdown",
   "metadata": {},
   "source": [
    "For now we will load the data with a simple function from the `ml` library for this course, so that we do not have to deal with the details of the code. These loaders provide us with a `databunch`, that wraps a training set with input features `train_X` and target variables `train_y`, as well as a *validation set* that is not used for training `valid_X, valid_y`. We will also discover that the databunch class comes with quite a bit of functionality that makes handling data easier. \n",
    "\n",
    "We use the `wines_quality_alcohol()` loader to obtain a databunch for this first example. This loader sets up `quality` as the "
   ]
  },
  {
   "cell_type": "code",
   "execution_count": 2,
   "metadata": {},
   "outputs": [],
   "source": [
    "data = wines_quality_alcohol()"
   ]
  },
  {
   "cell_type": "code",
   "execution_count": 3,
   "metadata": {},
   "outputs": [
    {
     "data": {
      "image/png": "[encoded data removed]",
      "text/plain": [
       "<Figure size 432x288 with 1 Axes>"
      ]
     },
     "metadata": {
      "needs_background": "light"
     },
     "output_type": "display_data"
    }
   ],
   "source": [
    "data.plot()"
   ]
  },
  {
   "cell_type": "markdown",
   "metadata": {},
   "source": [
    "# Choose a model\n",
    "\n",
    "In this case we choose a **linear regression** model, in other words, we hypothesize that a first order function will fit the data sufficiently. Under the hood, this model uses the Normal Equation to analytically find the optimal linear function."
   ]
  },
  {
   "cell_type": "code",
   "execution_count": 4,
   "metadata": {},
   "outputs": [],
   "source": [
    "model = linear_regression_ne(data)"
   ]
  },
  {
   "cell_type": "markdown",
   "metadata": {},
   "source": [
    "# train the model"
   ]
  },
  {
   "cell_type": "code",
   "execution_count": 5,
   "metadata": {},
   "outputs": [
    {
     "data": {
      "application/vnd.jupyter.widget-view+json": {
       "model_id": "52af103973104ef4aa55ff68f07e4aad",
       "version_major": 2,
       "version_minor": 0
      },
      "text/plain": [
       "HBox(children=(IntProgress(value=0, description='Total', max=1, style=ProgressStyle(description_width='initial…"
      ]
     },
     "metadata": {},
     "output_type": "display_data"
    },
    {
     "name": "stdout",
     "output_type": "stream",
     "text": [
      "1 0.00s train loss: 0.513259 valid loss: 0.467433\n",
      "\n"
     ]
    }
   ],
   "source": [
    "model.train()"
   ]
  },
  {
   "cell_type": "markdown",
   "metadata": {},
   "source": [
    "# Validate the model\n",
    "\n",
    "In this case we know that the Normal Equation will find the optimal function, so we can simply validate by visualizing the learned function. It may seem a bit flat, but that is because in ths dataset there are many quality 6 wines pulling the function closer to y = 6."
   ]
  },
  {
   "cell_type": "code",
   "execution_count": 6,
   "metadata": {},
   "outputs": [
    {
     "data": {
      "image/png": "[encoded data removed]",
      "text/plain": [
       "<Figure size 432x288 with 1 Axes>"
      ]
     },
     "metadata": {
      "needs_background": "light"
     },
     "output_type": "display_data"
    }
   ],
   "source": [
    "model.data.plot()\n",
    "model.plot_train_line()"
   ]
  },
  {
   "cell_type": "markdown",
   "metadata": {},
   "source": [
    "# Model parameters\n",
    "\n",
    "We can also inspect the learned coefficients. In this case, it has learned a function that is approximately\n",
    "\n",
    "`quality = 0.37 * alcohol + 1.82`."
   ]
  },
  {
   "cell_type": "code",
   "execution_count": 7,
   "metadata": {},
   "outputs": [
    {
     "data": {
      "text/plain": [
       "(1.8217569647683818, array([0.36672194]))"
      ]
     },
     "execution_count": 7,
     "metadata": {},
     "output_type": "execute_result"
    }
   ],
   "source": [
    "model.parameters()"
   ]
  },
  {
   "cell_type": "code",
   "execution_count": null,
   "metadata": {},
   "outputs": [],
   "source": []
  }
 ],
 "metadata": {
  "kernelspec": {
   "display_name": "Python 3",
   "language": "python",
   "name": "python3"
  },
  "language_info": {
   "codemirror_mode": {
    "name": "ipython",
    "version": 3
   },
   "file_extension": ".py",
   "mimetype": "text/x-python",
   "name": "python",
   "nbconvert_exporter": "python",
   "pygments_lexer": "ipython3",
   "version": "3.6.8"
  },
  "toc": {
   "base_numbering": 1,
   "nav_menu": {},
   "number_sections": true,
   "sideBar": true,
   "skip_h1_title": true,
   "title_cell": "Table of Contents",
   "title_sidebar": "Contents",
   "toc_cell": false,
   "toc_position": {},
   "toc_section_display": true,
   "toc_window_display": false
  }
 },
 "nbformat": 4,
 "nbformat_minor": 2
}
