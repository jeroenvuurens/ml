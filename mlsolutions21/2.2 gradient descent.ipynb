{
 "cells": [
  {
   "cell_type": "markdown",
   "metadata": {},
   "source": [
    "# Gradient Descent"
   ]
  },
  {
   "cell_type": "markdown",
   "metadata": {},
   "source": [
    "# Gradient Descent\n",
    "\n",
    "According to this method, the coefficients $\\theta$ are adjusted iteratively towards the minimum. To determine the direction for adjusting $\\theta$ we use the partial derivatives of the loss function. An advantage of Gradient Descent is that the approach is applicable to any loss function."
   ]
  },
  {
   "cell_type": "markdown",
   "metadata": {},
   "source": [
    "# Update Rule\n",
    "\n",
    "The basis for Gradient Descent is an update rule that adjusts the coefficients towards the minimum. We use a general update rule, in which we update $\\theta$ with the formula below. In this assignment $\\alpha$ is the 'learning rate' and $m$ is the number of training samples."
   ]
  },
  {
   "cell_type": "markdown",
   "metadata": {},
   "source": [
    "$$ \\theta := \\theta - \\frac{\\alpha}{m} X^T \\cdot (X \\cdot \\theta - y) $$"
   ]
  },
  {
   "cell_type": "markdown",
   "metadata": {},
   "source": [
    "# Data\n",
    "\n",
    "For starters, we read the Wine data set like before, which gives us an input matrix X and a target vector y."
   ]
  },
  {
   "cell_type": "code",
   "execution_count": 1,
   "metadata": {},
   "outputs": [],
   "source": [
    "from ml import *\n",
    "data = wines_quality_alcohol(bias=True, column_y = True)\n",
    "X = data.train_X\n",
    "y = data.train_y"
   ]
  },
  {
   "cell_type": "markdown",
   "metadata": {},
   "source": [
    "# Model"
   ]
  },
  {
   "cell_type": "markdown",
   "metadata": {},
   "source": [
    "The next thing we need is a vector that contains the parameters for our linear function. In Machine Learning, by default we use $\\theta$ (pronounce theta) to hold our parameters. In the background, we use the `numpy` library to create matrices to hold these numbers.\n",
    "\n",
    "#### Look at the example from the lecture and enter code on de ... to create an array with 2 rows and 1 column that contains zeros. The result should look like below.\n",
    "\n",
    "`array([[0.],\n",
    "       [0.]])`"
   ]
  },
  {
   "cell_type": "code",
   "execution_count": 3,
   "metadata": {},
   "outputs": [
    {
     "data": {
      "text/plain": [
       "array([[0.],\n",
       "       [0.]])"
      ]
     },
     "execution_count": 3,
     "metadata": {},
     "output_type": "execute_result"
    }
   ],
   "source": [
    "# create a column vector with 2 zeros: 2 rows, 1 column\n",
    "𝜃 = np.zeros( (2,1) )\n",
    "𝜃"
   ]
  },
  {
   "cell_type": "markdown",
   "metadata": {},
   "source": [
    "Then $X \\cdot \\theta$ will give the estimates in a column vector. In this case, we will get only zeros, because $\\theta_0 = \\theta_1 = 0$, and therefore the dot product with whatever values will be zero. We still need to train the model to find the best values for $\\theta$."
   ]
  },
  {
   "cell_type": "code",
   "execution_count": 4,
   "metadata": {},
   "outputs": [
    {
     "data": {
      "text/plain": [
       "array([[0.],\n",
       "       [0.],\n",
       "       [0.],\n",
       "       ...,\n",
       "       [0.],\n",
       "       [0.],\n",
       "       [0.]])"
      ]
     },
     "execution_count": 4,
     "metadata": {},
     "output_type": "execute_result"
    }
   ],
   "source": [
    "X @ 𝜃"
   ]
  },
  {
   "cell_type": "markdown",
   "metadata": {},
   "source": [
    "# Training"
   ]
  },
  {
   "cell_type": "markdown",
   "metadata": {},
   "source": [
    "We now apply the vectorized update rule we derived above repeatedly and the values of $\\theta$ will converge to the optimal value.\n",
    "\n",
    "We introduce a 'learning rate' to update $\\theta$ with some fraction of the gradient to iteratively take a small step in the right direction."
   ]
  },
  {
   "cell_type": "code",
   "execution_count": 5,
   "metadata": {},
   "outputs": [],
   "source": [
    "# learning rate\n",
    "𝛼 = 0.01"
   ]
  },
  {
   "cell_type": "code",
   "execution_count": 6,
   "metadata": {},
   "outputs": [
    {
     "name": "stdout",
     "output_type": "stream",
     "text": [
      "[[1.82168849]\n",
      " [0.36672844]]\n"
     ]
    }
   ],
   "source": [
    "for i in range(100000):\n",
    "    𝜃 = 𝜃 - 𝛼 * X.T @ (X @ 𝜃 - y) / len(X)\n",
    "print(𝜃)"
   ]
  },
  {
   "cell_type": "code",
   "execution_count": 7,
   "metadata": {},
   "outputs": [],
   "source": [
    "y_predict = data.train_X @ 𝜃"
   ]
  },
  {
   "cell_type": "markdown",
   "metadata": {},
   "source": [
    "#### now compute the mean squared error by using the function `mean_squared_error` on `y_predict` and `data.train_y`. What do you think is in data.train_y and what is in y_predict? What does the mean squared error mean?"
   ]
  },
  {
   "cell_type": "code",
   "execution_count": 8,
   "metadata": {},
   "outputs": [
    {
     "data": {
      "text/plain": [
       "0.5132594452398507"
      ]
     },
     "execution_count": 8,
     "metadata": {},
     "output_type": "execute_result"
    }
   ],
   "source": [
    "mean_squared_error( y_predict, data.train_y )"
   ]
  },
  {
   "cell_type": "markdown",
   "metadata": {},
   "source": [
    "When running the code below, you may notice a few things:\n",
    "\n",
    "- We are getting an estimation of the optimal coefficients instead of the exact outcome\n",
    "- It takes a few seconds to converge, which indicates that it may be less efficient for large data sets."
   ]
  }
 ],
 "metadata": {
  "kernelspec": {
   "display_name": "Python 3",
   "language": "python",
   "name": "python3"
  },
  "language_info": {
   "codemirror_mode": {
    "name": "ipython",
    "version": 3
   },
   "file_extension": ".py",
   "mimetype": "text/x-python",
   "name": "python",
   "nbconvert_exporter": "python",
   "pygments_lexer": "ipython3",
   "version": "3.6.8"
  },
  "toc": {
   "base_numbering": 1,
   "nav_menu": {},
   "number_sections": true,
   "sideBar": true,
   "skip_h1_title": true,
   "title_cell": "Table of Contents",
   "title_sidebar": "Contents",
   "toc_cell": false,
   "toc_position": {},
   "toc_section_display": true,
   "toc_window_display": false
  }
 },
 "nbformat": 4,
 "nbformat_minor": 2
}
