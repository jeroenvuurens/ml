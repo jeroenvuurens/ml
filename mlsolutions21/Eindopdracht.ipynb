{
 "cells": [
  {
   "cell_type": "code",
   "execution_count": 14,
   "metadata": {},
   "outputs": [],
   "source": [
    "from ml import *"
   ]
  },
  {
   "cell_type": "code",
   "execution_count": 15,
   "metadata": {},
   "outputs": [],
   "source": [
    "df = speeddating_pd()"
   ]
  },
  {
   "cell_type": "code",
   "execution_count": 5,
   "metadata": {},
   "outputs": [
    {
     "data": {
      "text/html": [
       "<div>\n",
       "<style scoped>\n",
       "    .dataframe tbody tr th:only-of-type {\n",
       "        vertical-align: middle;\n",
       "    }\n",
       "\n",
       "    .dataframe tbody tr th {\n",
       "        vertical-align: top;\n",
       "    }\n",
       "\n",
       "    .dataframe thead th {\n",
       "        text-align: right;\n",
       "    }\n",
       "</style>\n",
       "<table border=\"1\" class=\"dataframe\">\n",
       "  <thead>\n",
       "    <tr style=\"text-align: right;\">\n",
       "      <th></th>\n",
       "      <th>iid_x</th>\n",
       "      <th>gender_x</th>\n",
       "      <th>condtn_x</th>\n",
       "      <th>pid_x</th>\n",
       "      <th>age_x</th>\n",
       "      <th>field_x</th>\n",
       "      <th>field_cd_x</th>\n",
       "      <th>undergra_x</th>\n",
       "      <th>mn_sat_x</th>\n",
       "      <th>tuition_x</th>\n",
       "      <th>...</th>\n",
       "      <th>intel1_s_y</th>\n",
       "      <th>fun1_s_y</th>\n",
       "      <th>amb1_s_y</th>\n",
       "      <th>shar1_s_y</th>\n",
       "      <th>attr3_s_y</th>\n",
       "      <th>sinc3_s_y</th>\n",
       "      <th>intel3_s_y</th>\n",
       "      <th>fun3_s_y</th>\n",
       "      <th>amb3_s_y</th>\n",
       "      <th>match</th>\n",
       "    </tr>\n",
       "  </thead>\n",
       "  <tbody>\n",
       "    <tr>\n",
       "      <td>100</td>\n",
       "      <td>11</td>\n",
       "      <td>1</td>\n",
       "      <td>1</td>\n",
       "      <td>1.0</td>\n",
       "      <td>27.0</td>\n",
       "      <td>Finance</td>\n",
       "      <td>8.0</td>\n",
       "      <td>NaN</td>\n",
       "      <td>NaN</td>\n",
       "      <td>NaN</td>\n",
       "      <td>...</td>\n",
       "      <td>NaN</td>\n",
       "      <td>NaN</td>\n",
       "      <td>NaN</td>\n",
       "      <td>NaN</td>\n",
       "      <td>NaN</td>\n",
       "      <td>NaN</td>\n",
       "      <td>NaN</td>\n",
       "      <td>NaN</td>\n",
       "      <td>NaN</td>\n",
       "      <td>0</td>\n",
       "    </tr>\n",
       "    <tr>\n",
       "      <td>101</td>\n",
       "      <td>11</td>\n",
       "      <td>1</td>\n",
       "      <td>1</td>\n",
       "      <td>2.0</td>\n",
       "      <td>27.0</td>\n",
       "      <td>Finance</td>\n",
       "      <td>8.0</td>\n",
       "      <td>NaN</td>\n",
       "      <td>NaN</td>\n",
       "      <td>NaN</td>\n",
       "      <td>...</td>\n",
       "      <td>NaN</td>\n",
       "      <td>NaN</td>\n",
       "      <td>NaN</td>\n",
       "      <td>NaN</td>\n",
       "      <td>NaN</td>\n",
       "      <td>NaN</td>\n",
       "      <td>NaN</td>\n",
       "      <td>NaN</td>\n",
       "      <td>NaN</td>\n",
       "      <td>0</td>\n",
       "    </tr>\n",
       "    <tr>\n",
       "      <td>102</td>\n",
       "      <td>11</td>\n",
       "      <td>1</td>\n",
       "      <td>1</td>\n",
       "      <td>3.0</td>\n",
       "      <td>27.0</td>\n",
       "      <td>Finance</td>\n",
       "      <td>8.0</td>\n",
       "      <td>NaN</td>\n",
       "      <td>NaN</td>\n",
       "      <td>NaN</td>\n",
       "      <td>...</td>\n",
       "      <td>NaN</td>\n",
       "      <td>NaN</td>\n",
       "      <td>NaN</td>\n",
       "      <td>NaN</td>\n",
       "      <td>NaN</td>\n",
       "      <td>NaN</td>\n",
       "      <td>NaN</td>\n",
       "      <td>NaN</td>\n",
       "      <td>NaN</td>\n",
       "      <td>0</td>\n",
       "    </tr>\n",
       "    <tr>\n",
       "      <td>103</td>\n",
       "      <td>11</td>\n",
       "      <td>1</td>\n",
       "      <td>1</td>\n",
       "      <td>4.0</td>\n",
       "      <td>27.0</td>\n",
       "      <td>Finance</td>\n",
       "      <td>8.0</td>\n",
       "      <td>NaN</td>\n",
       "      <td>NaN</td>\n",
       "      <td>NaN</td>\n",
       "      <td>...</td>\n",
       "      <td>NaN</td>\n",
       "      <td>NaN</td>\n",
       "      <td>NaN</td>\n",
       "      <td>NaN</td>\n",
       "      <td>NaN</td>\n",
       "      <td>NaN</td>\n",
       "      <td>NaN</td>\n",
       "      <td>NaN</td>\n",
       "      <td>NaN</td>\n",
       "      <td>0</td>\n",
       "    </tr>\n",
       "    <tr>\n",
       "      <td>104</td>\n",
       "      <td>11</td>\n",
       "      <td>1</td>\n",
       "      <td>1</td>\n",
       "      <td>5.0</td>\n",
       "      <td>27.0</td>\n",
       "      <td>Finance</td>\n",
       "      <td>8.0</td>\n",
       "      <td>NaN</td>\n",
       "      <td>NaN</td>\n",
       "      <td>NaN</td>\n",
       "      <td>...</td>\n",
       "      <td>NaN</td>\n",
       "      <td>NaN</td>\n",
       "      <td>NaN</td>\n",
       "      <td>NaN</td>\n",
       "      <td>NaN</td>\n",
       "      <td>NaN</td>\n",
       "      <td>NaN</td>\n",
       "      <td>NaN</td>\n",
       "      <td>NaN</td>\n",
       "      <td>0</td>\n",
       "    </tr>\n",
       "    <tr>\n",
       "      <td>...</td>\n",
       "      <td>...</td>\n",
       "      <td>...</td>\n",
       "      <td>...</td>\n",
       "      <td>...</td>\n",
       "      <td>...</td>\n",
       "      <td>...</td>\n",
       "      <td>...</td>\n",
       "      <td>...</td>\n",
       "      <td>...</td>\n",
       "      <td>...</td>\n",
       "      <td>...</td>\n",
       "      <td>...</td>\n",
       "      <td>...</td>\n",
       "      <td>...</td>\n",
       "      <td>...</td>\n",
       "      <td>...</td>\n",
       "      <td>...</td>\n",
       "      <td>...</td>\n",
       "      <td>...</td>\n",
       "      <td>...</td>\n",
       "      <td>...</td>\n",
       "    </tr>\n",
       "    <tr>\n",
       "      <td>6801</td>\n",
       "      <td>552</td>\n",
       "      <td>1</td>\n",
       "      <td>2</td>\n",
       "      <td>526.0</td>\n",
       "      <td>25.0</td>\n",
       "      <td>Climate Dynamics</td>\n",
       "      <td>18.0</td>\n",
       "      <td>Ecole Normale SupÅ½rieure, Paris</td>\n",
       "      <td>NaN</td>\n",
       "      <td>NaN</td>\n",
       "      <td>...</td>\n",
       "      <td>NaN</td>\n",
       "      <td>NaN</td>\n",
       "      <td>NaN</td>\n",
       "      <td>NaN</td>\n",
       "      <td>NaN</td>\n",
       "      <td>NaN</td>\n",
       "      <td>NaN</td>\n",
       "      <td>NaN</td>\n",
       "      <td>NaN</td>\n",
       "      <td>0</td>\n",
       "    </tr>\n",
       "    <tr>\n",
       "      <td>6802</td>\n",
       "      <td>552</td>\n",
       "      <td>1</td>\n",
       "      <td>2</td>\n",
       "      <td>527.0</td>\n",
       "      <td>25.0</td>\n",
       "      <td>Climate Dynamics</td>\n",
       "      <td>18.0</td>\n",
       "      <td>Ecole Normale SupÅ½rieure, Paris</td>\n",
       "      <td>NaN</td>\n",
       "      <td>NaN</td>\n",
       "      <td>...</td>\n",
       "      <td>NaN</td>\n",
       "      <td>NaN</td>\n",
       "      <td>NaN</td>\n",
       "      <td>NaN</td>\n",
       "      <td>NaN</td>\n",
       "      <td>NaN</td>\n",
       "      <td>NaN</td>\n",
       "      <td>NaN</td>\n",
       "      <td>NaN</td>\n",
       "      <td>0</td>\n",
       "    </tr>\n",
       "    <tr>\n",
       "      <td>6803</td>\n",
       "      <td>552</td>\n",
       "      <td>1</td>\n",
       "      <td>2</td>\n",
       "      <td>528.0</td>\n",
       "      <td>25.0</td>\n",
       "      <td>Climate Dynamics</td>\n",
       "      <td>18.0</td>\n",
       "      <td>Ecole Normale SupÅ½rieure, Paris</td>\n",
       "      <td>NaN</td>\n",
       "      <td>NaN</td>\n",
       "      <td>...</td>\n",
       "      <td>NaN</td>\n",
       "      <td>NaN</td>\n",
       "      <td>NaN</td>\n",
       "      <td>NaN</td>\n",
       "      <td>NaN</td>\n",
       "      <td>NaN</td>\n",
       "      <td>NaN</td>\n",
       "      <td>NaN</td>\n",
       "      <td>NaN</td>\n",
       "      <td>0</td>\n",
       "    </tr>\n",
       "    <tr>\n",
       "      <td>6804</td>\n",
       "      <td>552</td>\n",
       "      <td>1</td>\n",
       "      <td>2</td>\n",
       "      <td>529.0</td>\n",
       "      <td>25.0</td>\n",
       "      <td>Climate Dynamics</td>\n",
       "      <td>18.0</td>\n",
       "      <td>Ecole Normale SupÅ½rieure, Paris</td>\n",
       "      <td>NaN</td>\n",
       "      <td>NaN</td>\n",
       "      <td>...</td>\n",
       "      <td>NaN</td>\n",
       "      <td>NaN</td>\n",
       "      <td>NaN</td>\n",
       "      <td>NaN</td>\n",
       "      <td>NaN</td>\n",
       "      <td>NaN</td>\n",
       "      <td>NaN</td>\n",
       "      <td>NaN</td>\n",
       "      <td>NaN</td>\n",
       "      <td>0</td>\n",
       "    </tr>\n",
       "    <tr>\n",
       "      <td>6805</td>\n",
       "      <td>552</td>\n",
       "      <td>1</td>\n",
       "      <td>2</td>\n",
       "      <td>530.0</td>\n",
       "      <td>25.0</td>\n",
       "      <td>Climate Dynamics</td>\n",
       "      <td>18.0</td>\n",
       "      <td>Ecole Normale SupÅ½rieure, Paris</td>\n",
       "      <td>NaN</td>\n",
       "      <td>NaN</td>\n",
       "      <td>...</td>\n",
       "      <td>NaN</td>\n",
       "      <td>NaN</td>\n",
       "      <td>NaN</td>\n",
       "      <td>NaN</td>\n",
       "      <td>NaN</td>\n",
       "      <td>NaN</td>\n",
       "      <td>NaN</td>\n",
       "      <td>NaN</td>\n",
       "      <td>NaN</td>\n",
       "      <td>0</td>\n",
       "    </tr>\n",
       "  </tbody>\n",
       "</table>\n",
       "<p>3403 rows × 157 columns</p>\n",
       "</div>"
      ],
      "text/plain": [
       "      iid_x  gender_x  condtn_x  pid_x  age_x           field_x  field_cd_x  \\\n",
       "100      11         1         1    1.0   27.0           Finance         8.0   \n",
       "101      11         1         1    2.0   27.0           Finance         8.0   \n",
       "102      11         1         1    3.0   27.0           Finance         8.0   \n",
       "103      11         1         1    4.0   27.0           Finance         8.0   \n",
       "104      11         1         1    5.0   27.0           Finance         8.0   \n",
       "...     ...       ...       ...    ...    ...               ...         ...   \n",
       "6801    552         1         2  526.0   25.0  Climate Dynamics        18.0   \n",
       "6802    552         1         2  527.0   25.0  Climate Dynamics        18.0   \n",
       "6803    552         1         2  528.0   25.0  Climate Dynamics        18.0   \n",
       "6804    552         1         2  529.0   25.0  Climate Dynamics        18.0   \n",
       "6805    552         1         2  530.0   25.0  Climate Dynamics        18.0   \n",
       "\n",
       "                            undergra_x mn_sat_x tuition_x  ...  intel1_s_y  \\\n",
       "100                                NaN      NaN       NaN  ...         NaN   \n",
       "101                                NaN      NaN       NaN  ...         NaN   \n",
       "102                                NaN      NaN       NaN  ...         NaN   \n",
       "103                                NaN      NaN       NaN  ...         NaN   \n",
       "104                                NaN      NaN       NaN  ...         NaN   \n",
       "...                                ...      ...       ...  ...         ...   \n",
       "6801  Ecole Normale SupÅ½rieure, Paris      NaN       NaN  ...         NaN   \n",
       "6802  Ecole Normale SupÅ½rieure, Paris      NaN       NaN  ...         NaN   \n",
       "6803  Ecole Normale SupÅ½rieure, Paris      NaN       NaN  ...         NaN   \n",
       "6804  Ecole Normale SupÅ½rieure, Paris      NaN       NaN  ...         NaN   \n",
       "6805  Ecole Normale SupÅ½rieure, Paris      NaN       NaN  ...         NaN   \n",
       "\n",
       "      fun1_s_y  amb1_s_y shar1_s_y attr3_s_y sinc3_s_y  intel3_s_y  fun3_s_y  \\\n",
       "100        NaN       NaN       NaN       NaN       NaN         NaN       NaN   \n",
       "101        NaN       NaN       NaN       NaN       NaN         NaN       NaN   \n",
       "102        NaN       NaN       NaN       NaN       NaN         NaN       NaN   \n",
       "103        NaN       NaN       NaN       NaN       NaN         NaN       NaN   \n",
       "104        NaN       NaN       NaN       NaN       NaN         NaN       NaN   \n",
       "...        ...       ...       ...       ...       ...         ...       ...   \n",
       "6801       NaN       NaN       NaN       NaN       NaN         NaN       NaN   \n",
       "6802       NaN       NaN       NaN       NaN       NaN         NaN       NaN   \n",
       "6803       NaN       NaN       NaN       NaN       NaN         NaN       NaN   \n",
       "6804       NaN       NaN       NaN       NaN       NaN         NaN       NaN   \n",
       "6805       NaN       NaN       NaN       NaN       NaN         NaN       NaN   \n",
       "\n",
       "     amb3_s_y  match  \n",
       "100       NaN      0  \n",
       "101       NaN      0  \n",
       "102       NaN      0  \n",
       "103       NaN      0  \n",
       "104       NaN      0  \n",
       "...       ...    ...  \n",
       "6801      NaN      0  \n",
       "6802      NaN      0  \n",
       "6803      NaN      0  \n",
       "6804      NaN      0  \n",
       "6805      NaN      0  \n",
       "\n",
       "[3403 rows x 157 columns]"
      ]
     },
     "execution_count": 5,
     "metadata": {},
     "output_type": "execute_result"
    }
   ],
   "source": [
    "df"
   ]
  },
  {
   "cell_type": "code",
   "execution_count": 3,
   "metadata": {},
   "outputs": [],
   "source": [
    "df['equal_race'] = (df.race_x == df.race_y) * 1.0\n",
    "df['diff_age'] = (df.age_x - df.age_y).abs()\n",
    "df['diff_intel'] = (df.intel3_1_x - df.intel3_1_y).abs()\n",
    "df['diff_fun'] = (df.fun3_1_x - df.fun3_1_y).abs()\n",
    "df.dropna(subset=['equal_race', 'diff_age', 'diff_intel', 'diff_fun'], inplace=True)"
   ]
  },
  {
   "cell_type": "code",
   "execution_count": 4,
   "metadata": {},
   "outputs": [],
   "source": [
    "data = Data.from_dataframe(df, 'match', 'intel3_1_x', 'intel3_1_y', 'fun3_1_x', 'fun3_1_y', 'diff_intel', 'diff_fun', scale=True, bias=True, balance=True)"
   ]
  },
  {
   "cell_type": "code",
   "execution_count": 5,
   "metadata": {},
   "outputs": [],
   "source": [
    "data = Data.from_dataframe(df, 'match', 'intel3_1_x', 'intel3_1_y', 'fun3_1_x', 'fun3_1_y', scale=True, bias=True, balance=True)"
   ]
  },
  {
   "cell_type": "code",
   "execution_count": 6,
   "metadata": {},
   "outputs": [
    {
     "data": {
      "text/plain": [
       "550"
      ]
     },
     "execution_count": 6,
     "metadata": {},
     "output_type": "execute_result"
    }
   ],
   "source": [
    "sum(1-data.valid_y)"
   ]
  },
  {
   "cell_type": "code",
   "execution_count": 7,
   "metadata": {},
   "outputs": [],
   "source": [
    "model = logistic_regression(data, metrics=[loss, recall, precision], lr=0.01, k=20, max_depth=5)"
   ]
  },
  {
   "cell_type": "code",
   "execution_count": 8,
   "metadata": {},
   "outputs": [
    {
     "data": {
      "application/vnd.jupyter.widget-view+json": {
       "model_id": "94476018e786453dae0211002519f7de",
       "version_major": 2,
       "version_minor": 0
      },
      "text/plain": [
       "HBox(children=(IntProgress(value=0, description='Total', max=1, style=ProgressStyle(description_width='initial…"
      ]
     },
     "metadata": {},
     "output_type": "display_data"
    },
    {
     "name": "stdout",
     "output_type": "stream",
     "text": [
      "0 0.00s train loss: 15.567866  recall: 0.612682  precision: 0.543725 valid loss: 15.608669  recall: 0.571429  precision: 0.192926\n",
      "\n"
     ]
    },
    {
     "name": "stderr",
     "output_type": "stream",
     "text": [
      "/opt/jupyterhub/anaconda/lib/python3.6/site-packages/sklearn/linear_model/logistic.py:432: FutureWarning: Default solver will be changed to 'lbfgs' in 0.22. Specify a solver to silence this warning.\n",
      "  FutureWarning)\n"
     ]
    }
   ],
   "source": [
    "model.train(1)"
   ]
  },
  {
   "cell_type": "code",
   "execution_count": 9,
   "metadata": {},
   "outputs": [
    {
     "data": {
      "application/vnd.jupyter.widget-view+json": {
       "model_id": "cfe031216b9d4832af3f4d9d3216059f",
       "version_major": 2,
       "version_minor": 0
      },
      "text/plain": [
       "HBox(children=(IntProgress(value=0, description='Total', max=1, style=ProgressStyle(description_width='initial…"
      ]
     },
     "metadata": {},
     "output_type": "display_data"
    },
    {
     "name": "stdout",
     "output_type": "stream",
     "text": [
      "1 0.00s train loss: 15.567866  recall: 0.612682  precision: 0.543725 valid loss: 15.608669  recall: 0.571429  precision: 0.192926\n",
      "\n"
     ]
    },
    {
     "name": "stderr",
     "output_type": "stream",
     "text": [
      "/opt/jupyterhub/anaconda/lib/python3.6/site-packages/sklearn/linear_model/logistic.py:432: FutureWarning: Default solver will be changed to 'lbfgs' in 0.22. Specify a solver to silence this warning.\n",
      "  FutureWarning)\n"
     ]
    }
   ],
   "source": [
    "model.train(1)"
   ]
  },
  {
   "cell_type": "code",
   "execution_count": 10,
   "metadata": {},
   "outputs": [
    {
     "data": {
      "application/vnd.jupyter.widget-view+json": {
       "model_id": "26559bec009240cf86efcfe1935025a6",
       "version_major": 2,
       "version_minor": 0
      },
      "text/plain": [
       "HBox(children=(IntProgress(value=0, description='Total', max=1, style=ProgressStyle(description_width='initial…"
      ]
     },
     "metadata": {},
     "output_type": "display_data"
    },
    {
     "name": "stdout",
     "output_type": "stream",
     "text": [
      "2 0.00s train loss: 15.567866  recall: 0.612682  precision: 0.543725 valid loss: 15.608669  recall: 0.571429  precision: 0.192926\n",
      "\n"
     ]
    },
    {
     "name": "stderr",
     "output_type": "stream",
     "text": [
      "/opt/jupyterhub/anaconda/lib/python3.6/site-packages/sklearn/linear_model/logistic.py:432: FutureWarning: Default solver will be changed to 'lbfgs' in 0.22. Specify a solver to silence this warning.\n",
      "  FutureWarning)\n"
     ]
    }
   ],
   "source": [
    "model.train(1)"
   ]
  },
  {
   "cell_type": "code",
   "execution_count": 11,
   "metadata": {},
   "outputs": [
    {
     "data": {
      "text/plain": [
       "(array([-0.01466653]),\n",
       " array([[-0.01466653, -0.04407481, -0.07611311,  0.2977997 , -0.00505561]]))"
      ]
     },
     "execution_count": 11,
     "metadata": {},
     "output_type": "execute_result"
    }
   ],
   "source": [
    "model.parameters()"
   ]
  },
  {
   "cell_type": "code",
   "execution_count": 12,
   "metadata": {},
   "outputs": [
    {
     "data": {
      "text/plain": [
       "3272"
      ]
     },
     "execution_count": 12,
     "metadata": {},
     "output_type": "execute_result"
    }
   ],
   "source": [
    "len(df)"
   ]
  },
  {
   "cell_type": "code",
   "execution_count": null,
   "metadata": {},
   "outputs": [],
   "source": []
  }
 ],
 "metadata": {
  "kernelspec": {
   "display_name": "Python 3",
   "language": "python",
   "name": "python3"
  },
  "language_info": {
   "codemirror_mode": {
    "name": "ipython",
    "version": 3
   },
   "file_extension": ".py",
   "mimetype": "text/x-python",
   "name": "python",
   "nbconvert_exporter": "python",
   "pygments_lexer": "ipython3",
   "version": "3.6.8"
  },
  "toc": {
   "base_numbering": 1,
   "nav_menu": {},
   "number_sections": true,
   "sideBar": true,
   "skip_h1_title": true,
   "title_cell": "Table of Contents",
   "title_sidebar": "Contents",
   "toc_cell": false,
   "toc_position": {},
   "toc_section_display": true,
   "toc_window_display": false
  }
 },
 "nbformat": 4,
 "nbformat_minor": 2
}
