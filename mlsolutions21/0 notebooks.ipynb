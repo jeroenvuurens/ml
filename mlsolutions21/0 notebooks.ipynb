{
 "cells": [
  {
   "cell_type": "markdown",
   "metadata": {},
   "source": [
    "# Working with Jupyter Notebooks\n",
    "\n",
    "For these practical lessons on Machine Learning, we will use an online environment called Jupyter, in which we can work in notebooks. \n",
    "\n",
    "#### Programming environment\n",
    "\n",
    "In a notebook you can enter programming code in a cell and execute it. The notebook will then show the output, but also remember all current variable values. This means that notebooks are very suitable for interactive programming; it allows you to inspect results and modify and rerun code in any order. Notebooks also have graphical features, there are libraries that we can use to create interactive plots. The interactive nature of notebooks make them ideal for analyzing and manipulating data by allowing a notebook to grow as we learn more about the data. In fact, Jupyter Notebooks are currently one of the most used tools in Data Science.\n",
    "\n",
    "#### Documentation\n",
    "\n",
    "Complementary to the programming environment, Jupyter notebooks also provide a convenient way to add documentation. A notebook is made up out of cells. Every cell can contain either programming code or Markdown code. Markdown is a short and yet powerful markup language that we can use to enter plain text together with code to write headings, tables, bullet lists, hyperlinks. For these instructions, we write down math to explain what we are doing, which we can write as $\\LaTeX$  in between $-signs and then renders beautifully.\n",
    "\n",
    "#### Writing notebooks\n",
    "\n",
    "Although notebooks can be used as a canvas for experiments, it is highly recommended to keep your notebooks tidy and readable:\n",
    "\n",
    "- Clearly state the purpose of a notebook at the top\n",
    "- Cut programming codes into comprehensive chunks that you divide over cells.\n",
    "- Write comments above every cell to explain what the code does in natural language\n",
    "- Discuss the ouput\n",
    "- Draw conclusions."
   ]
  },
  {
   "cell_type": "markdown",
   "metadata": {},
   "source": [
    "## Getting used to working in Notebooks"
   ]
  },
  {
   "cell_type": "markdown",
   "metadata": {},
   "source": [
    "#### Cells\n",
    "\n",
    "The cells in a notebook can be selected by mouseclick. The current cell is marked with a green or blue frame. The frame color indicates the cell modus:\n",
    "\n",
    "- Edit-mode (green): in this mode the cell contains a cursor that you can use to edit the text/source code.\n",
    "- Cell-mode (blue): in this mode there s no cursor in the cell, but we can rather insert, delete, copy and paste entire cells. The edit-menu shows several options, but there are also keyboard shortcuts for power-users.\n",
    "\n",
    "You can put the current cell in Cell-mode by pressing the ESC key. If you want to enter Edit-mode you can press either the Enter key of click inside the current cell to position the cursor.\n",
    "\n",
    "#### Executing code\n",
    "\n",
    "You can execute the code in a cell by pressing the 'Run' icon or by pressing Shift-Enter. The latter has the advantage of running the cell and moving to the next cell. So pressing Shift-Enter multiple times will execute consecutive cells. \n",
    "\n",
    "If a cell contains programming code, the code is executed and the ouput (if any) is shown underneath the cell. If the last statement returns a result, the result of this statement is also shown. \n",
    "\n",
    "if the current cell contains markdown, excuting the cell will render the markdown code to marked-up code."
   ]
  },
  {
   "cell_type": "markdown",
   "metadata": {},
   "source": [
    "#### Assignment\n",
    "\n",
    "Try out selecting a cell by clicking on **this** cell. Switch between *Edit-mode* and *Cell-mode* by pressing `ESC` and `Enter` and watch how the color of the frame changes. \n",
    "\n",
    "Now modify the text somewhat and press `Shift-Enter` to render the code."
   ]
  },
  {
   "cell_type": "markdown",
   "metadata": {},
   "source": [
    "### Insert, delete, copy and paste cells\n",
    "\n",
    "In the **Insert-menu** you can insert an empty cell above or below the current cell. In the **Edit-menu** you can delete, copy and paste the current cell."
   ]
  },
  {
   "cell_type": "markdown",
   "metadata": {},
   "source": [
    "#### Adjusting the cell type\n",
    "\n",
    "Every cell has a type. If you stand on **this** cell, the toolbar will show **Markdown** to indicate it contains Markdown code. Je can change the type of the current cell using the drop-down box that shows the cell type. §"
   ]
  },
  {
   "cell_type": "markdown",
   "metadata": {},
   "source": [
    "## Programming Python\n",
    "\n",
    "After explaining some basics about Notebooks and cell we are ready to start programming some Python code! Traditionally, the first step in a new programming environment/language should be to print 'Hello World!'. The code is in the cell below, so select and execute the cell."
   ]
  },
  {
   "cell_type": "code",
   "execution_count": 1,
   "metadata": {},
   "outputs": [
    {
     "name": "stdout",
     "output_type": "stream",
     "text": [
      "Hello World!\n"
     ]
    }
   ],
   "source": [
    "print('Hello World!')"
   ]
  },
  {
   "cell_type": "markdown",
   "metadata": {},
   "source": [
    "Programming languages allow you to assign values to variables, so that you can reuse those later on. Accordingly, if you assign a value to a variable in a notebook, you can reuse it later on, even if the assignment was done in another cell. The cell below assign some values to variables. Note that they are only assigned if you execute the cell."
   ]
  },
  {
   "cell_type": "code",
   "execution_count": 2,
   "metadata": {},
   "outputs": [],
   "source": [
    "message = 'Hello World'\n",
    "length = 2.3\n",
    "doublelength = 2 * length"
   ]
  },
  {
   "cell_type": "markdown",
   "metadata": {},
   "source": [
    "Because assignments do not produce any output, the cell above did not show anything, but when executed the values are stored. In the next cell, we can work with variables that have a value assigned to them. "
   ]
  },
  {
   "cell_type": "code",
   "execution_count": 4,
   "metadata": {},
   "outputs": [
    {
     "name": "stdout",
     "output_type": "stream",
     "text": [
      "4.6\n"
     ]
    }
   ],
   "source": [
    "print(doublelength)"
   ]
  },
  {
   "cell_type": "markdown",
   "metadata": {},
   "source": [
    "To make this interactive programming work, every notebook runs in a separate 'Python Kernel'. A kernel is a bit like a virtual machine. As long as it keeps running, the memory is kept, but if you stop the kernel you have to start over again with an empty memory.\n",
    "\n",
    "To spare resources, notebooks are closed after a few hours of idle time. If the kernel has somehow shut down, you may need to use the Kernel-menu to restart it. If you have unsaved changes to your notebook that you cannot save, do not refresh or close the browser-tab. Instead you can save it by opening a new browser tab to the server so that your jupyter server is running again, and then revert to the notebook with unsaved changes to save it."
   ]
  }
 ],
 "metadata": {
  "kernelspec": {
   "display_name": "Python 3",
   "language": "python",
   "name": "python3"
  },
  "language_info": {
   "codemirror_mode": {
    "name": "ipython",
    "version": 3
   },
   "file_extension": ".py",
   "mimetype": "text/x-python",
   "name": "python",
   "nbconvert_exporter": "python",
   "pygments_lexer": "ipython3",
   "version": "3.6.1"
  }
 },
 "nbformat": 4,
 "nbformat_minor": 2
}
