{
 "cells": [
  {
   "cell_type": "markdown",
   "metadata": {},
   "source": [
    "# n-Fold Cross Validation\n",
    "\n",
    "When we have a small data set, we can use n-fold cross validation to split the dataset into n-folds, and iteratively use one fold for validation and the remaining folds for testing. The experiment is repeated n times, so n models are learned and we can take the average over the evaluation metric over these n experiments."
   ]
  },
  {
   "cell_type": "markdown",
   "metadata": {},
   "source": [
    "# Data\n",
    "\n",
    "We can use the `KFold` class in SKLearn to split the data into k-folds. KFold.split(X) gives us an iterator over the k-folds returning indices for the training and validation set. "
   ]
  },
  {
   "cell_type": "code",
   "execution_count": 1,
   "metadata": {},
   "outputs": [],
   "source": [
    "from ml import *"
   ]
  },
  {
   "cell_type": "markdown",
   "metadata": {},
   "source": [
    "#### Load the boston dataset in Pandas. Use price as the target variable and lstat and age as the features."
   ]
  },
  {
   "cell_type": "code",
   "execution_count": 2,
   "metadata": {},
   "outputs": [],
   "source": [
    "df = boston_pd()\n",
    "y = df['price']\n",
    "X = df[['lstat', 'age']]"
   ]
  },
  {
   "cell_type": "markdown",
   "metadata": {},
   "source": [
    "#### Complete the code to train a LinearRegression model in every pass and use the predictions to compute the R2 score. Store all the R2 scores in the List r2 and finally the average is printed. You should get an R2 score over 0.27"
   ]
  },
  {
   "cell_type": "code",
   "execution_count": 10,
   "metadata": {},
   "outputs": [
    {
     "name": "stdout",
     "output_type": "stream",
     "text": [
      "0.2744340774851159\n"
     ]
    }
   ],
   "source": [
    "from sklearn.model_selection import KFold\n",
    "\n",
    "# a KFold generates train and validation splits. The split contains index numbers so we can apply\n",
    "# the same split to both X and y.\n",
    "kf = KFold(n_splits=5)\n",
    "\n",
    "r2 = []\n",
    "for train_ind, valid_ind in kf.split(X):\n",
    "\n",
    "    train_X = X.iloc[train_ind]\n",
    "    valid_X = X.iloc[valid_ind]\n",
    "    train_y = y.iloc[train_ind]\n",
    "    valid_y = y.iloc[valid_ind]\n",
    "    mean_y = sum(valid_y) / len(valid_y) # mean over the TRAINING SET\n",
    "    # ...\n",
    "    model = LinearRegression()\n",
    "    model.fit(train_X, train_y)\n",
    "    y_pred = model.predict(valid_X)      # predictions over the VALIDATION SET\n",
    "    r2_nominator = sum([ (yp - y)**2 for yp, y in zip(y_pred, valid_y)])\n",
    "    r2_denominator = sum([ (y - mean_y)**2 for y in valid_y])\n",
    "    r2.append( 1 - r2_nominator / r2_denominator)\n",
    "    #r2.append(r2_score(valid_y, y_pred))\n",
    "\n",
    "print(sum(r2) / len(r2))"
   ]
  },
  {
   "cell_type": "code",
   "execution_count": null,
   "metadata": {},
   "outputs": [],
   "source": []
  }
 ],
 "metadata": {
  "kernelspec": {
   "display_name": "Python 3",
   "language": "python",
   "name": "python3"
  },
  "language_info": {
   "codemirror_mode": {
    "name": "ipython",
    "version": 3
   },
   "file_extension": ".py",
   "mimetype": "text/x-python",
   "name": "python",
   "nbconvert_exporter": "python",
   "pygments_lexer": "ipython3",
   "version": "3.6.10"
  },
  "toc": {
   "base_numbering": 1,
   "nav_menu": {},
   "number_sections": true,
   "sideBar": true,
   "skip_h1_title": true,
   "title_cell": "Table of Contents",
   "title_sidebar": "Contents",
   "toc_cell": false,
   "toc_position": {},
   "toc_section_display": true,
   "toc_window_display": false
  }
 },
 "nbformat": 4,
 "nbformat_minor": 2
}
